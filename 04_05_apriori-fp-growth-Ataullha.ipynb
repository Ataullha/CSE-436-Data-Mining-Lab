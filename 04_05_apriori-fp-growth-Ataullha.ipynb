{
 "cells": [
  {
   "cell_type": "code",
   "execution_count": 1,
   "id": "35f91b2b",
   "metadata": {
    "execution": {
     "iopub.execute_input": "2025-10-23T07:16:03.050232Z",
     "iopub.status.busy": "2025-10-23T07:16:03.049909Z",
     "iopub.status.idle": "2025-10-23T07:16:03.054662Z",
     "shell.execute_reply": "2025-10-23T07:16:03.053750Z"
    },
    "papermill": {
     "duration": 0.01283,
     "end_time": "2025-10-23T07:16:03.056107",
     "exception": false,
     "start_time": "2025-10-23T07:16:03.043277",
     "status": "completed"
    },
    "tags": []
   },
   "outputs": [],
   "source": [
    "# https://rasbt.github.io/mlxtend/USER_GUIDE_INDEX/"
   ]
  },
  {
   "cell_type": "code",
   "execution_count": 2,
   "id": "c683ea24",
   "metadata": {
    "_cell_guid": "b1076dfc-b9ad-4769-8c92-a6c4dae69d19",
    "_uuid": "8f2839f25d086af736a60e9eeb907d3b93b6e0e5",
    "execution": {
     "iopub.execute_input": "2025-10-23T07:16:03.066955Z",
     "iopub.status.busy": "2025-10-23T07:16:03.066576Z",
     "iopub.status.idle": "2025-10-23T07:16:04.944014Z",
     "shell.execute_reply": "2025-10-23T07:16:04.942852Z"
    },
    "papermill": {
     "duration": 1.884669,
     "end_time": "2025-10-23T07:16:04.945670",
     "exception": false,
     "start_time": "2025-10-23T07:16:03.061001",
     "status": "completed"
    },
    "tags": []
   },
   "outputs": [],
   "source": [
    "import pandas as pd"
   ]
  },
  {
   "cell_type": "code",
   "execution_count": 3,
   "id": "a10d26d0",
   "metadata": {
    "execution": {
     "iopub.execute_input": "2025-10-23T07:16:04.956372Z",
     "iopub.status.busy": "2025-10-23T07:16:04.955920Z",
     "iopub.status.idle": "2025-10-23T07:16:05.075555Z",
     "shell.execute_reply": "2025-10-23T07:16:05.074759Z"
    },
    "papermill": {
     "duration": 0.126843,
     "end_time": "2025-10-23T07:16:05.077396",
     "exception": false,
     "start_time": "2025-10-23T07:16:04.950553",
     "status": "completed"
    },
    "tags": []
   },
   "outputs": [],
   "source": [
    "df = pd.read_csv(\"https://raw.githubusercontent.com/Ataullha/CSE-436-Data-Mining-Lab/refs/heads/main/transaction_data.csv\")"
   ]
  },
  {
   "cell_type": "code",
   "execution_count": 4,
   "id": "320f1f51",
   "metadata": {
    "execution": {
     "iopub.execute_input": "2025-10-23T07:16:05.088110Z",
     "iopub.status.busy": "2025-10-23T07:16:05.087466Z",
     "iopub.status.idle": "2025-10-23T07:16:05.112838Z",
     "shell.execute_reply": "2025-10-23T07:16:05.111849Z"
    },
    "papermill": {
     "duration": 0.032292,
     "end_time": "2025-10-23T07:16:05.114422",
     "exception": false,
     "start_time": "2025-10-23T07:16:05.082130",
     "status": "completed"
    },
    "tags": []
   },
   "outputs": [
    {
     "data": {
      "text/html": [
       "<div>\n",
       "<style scoped>\n",
       "    .dataframe tbody tr th:only-of-type {\n",
       "        vertical-align: middle;\n",
       "    }\n",
       "\n",
       "    .dataframe tbody tr th {\n",
       "        vertical-align: top;\n",
       "    }\n",
       "\n",
       "    .dataframe thead th {\n",
       "        text-align: right;\n",
       "    }\n",
       "</style>\n",
       "<table border=\"1\" class=\"dataframe\">\n",
       "  <thead>\n",
       "    <tr style=\"text-align: right;\">\n",
       "      <th></th>\n",
       "      <th>Transaction</th>\n",
       "      <th>Item1</th>\n",
       "      <th>Item2</th>\n",
       "      <th>Item3</th>\n",
       "      <th>Item4</th>\n",
       "      <th>Item5</th>\n",
       "    </tr>\n",
       "  </thead>\n",
       "  <tbody>\n",
       "    <tr>\n",
       "      <th>0</th>\n",
       "      <td>T1</td>\n",
       "      <td>A</td>\n",
       "      <td>B</td>\n",
       "      <td>C</td>\n",
       "      <td>D</td>\n",
       "      <td>E</td>\n",
       "    </tr>\n",
       "    <tr>\n",
       "      <th>1</th>\n",
       "      <td>T2</td>\n",
       "      <td>A</td>\n",
       "      <td>C</td>\n",
       "      <td>D</td>\n",
       "      <td>E</td>\n",
       "      <td>F</td>\n",
       "    </tr>\n",
       "    <tr>\n",
       "      <th>2</th>\n",
       "      <td>T3</td>\n",
       "      <td>A</td>\n",
       "      <td>B</td>\n",
       "      <td>E</td>\n",
       "      <td>NaN</td>\n",
       "      <td>NaN</td>\n",
       "    </tr>\n",
       "    <tr>\n",
       "      <th>3</th>\n",
       "      <td>T4</td>\n",
       "      <td>A</td>\n",
       "      <td>C</td>\n",
       "      <td>F</td>\n",
       "      <td>G</td>\n",
       "      <td>H</td>\n",
       "    </tr>\n",
       "    <tr>\n",
       "      <th>4</th>\n",
       "      <td>T5</td>\n",
       "      <td>B</td>\n",
       "      <td>C</td>\n",
       "      <td>D</td>\n",
       "      <td>E</td>\n",
       "      <td>F</td>\n",
       "    </tr>\n",
       "  </tbody>\n",
       "</table>\n",
       "</div>"
      ],
      "text/plain": [
       "  Transaction Item1 Item2 Item3 Item4 Item5\n",
       "0          T1     A     B     C     D     E\n",
       "1          T2     A     C     D     E     F\n",
       "2          T3     A     B     E   NaN   NaN\n",
       "3          T4     A     C     F     G     H\n",
       "4          T5     B     C     D     E     F"
      ]
     },
     "execution_count": 4,
     "metadata": {},
     "output_type": "execute_result"
    }
   ],
   "source": [
    "df"
   ]
  },
  {
   "cell_type": "code",
   "execution_count": 5,
   "id": "b7eb76ba",
   "metadata": {
    "execution": {
     "iopub.execute_input": "2025-10-23T07:16:05.126093Z",
     "iopub.status.busy": "2025-10-23T07:16:05.125769Z",
     "iopub.status.idle": "2025-10-23T07:16:05.132367Z",
     "shell.execute_reply": "2025-10-23T07:16:05.131354Z"
    },
    "papermill": {
     "duration": 0.014871,
     "end_time": "2025-10-23T07:16:05.134226",
     "exception": false,
     "start_time": "2025-10-23T07:16:05.119355",
     "status": "completed"
    },
    "tags": []
   },
   "outputs": [],
   "source": [
    "df = df.fillna('#')"
   ]
  },
  {
   "cell_type": "code",
   "execution_count": 6,
   "id": "fda1658b",
   "metadata": {
    "execution": {
     "iopub.execute_input": "2025-10-23T07:16:05.144859Z",
     "iopub.status.busy": "2025-10-23T07:16:05.144547Z",
     "iopub.status.idle": "2025-10-23T07:16:05.154703Z",
     "shell.execute_reply": "2025-10-23T07:16:05.153718Z"
    },
    "papermill": {
     "duration": 0.01713,
     "end_time": "2025-10-23T07:16:05.156220",
     "exception": false,
     "start_time": "2025-10-23T07:16:05.139090",
     "status": "completed"
    },
    "tags": []
   },
   "outputs": [
    {
     "data": {
      "text/html": [
       "<div>\n",
       "<style scoped>\n",
       "    .dataframe tbody tr th:only-of-type {\n",
       "        vertical-align: middle;\n",
       "    }\n",
       "\n",
       "    .dataframe tbody tr th {\n",
       "        vertical-align: top;\n",
       "    }\n",
       "\n",
       "    .dataframe thead th {\n",
       "        text-align: right;\n",
       "    }\n",
       "</style>\n",
       "<table border=\"1\" class=\"dataframe\">\n",
       "  <thead>\n",
       "    <tr style=\"text-align: right;\">\n",
       "      <th></th>\n",
       "      <th>Transaction</th>\n",
       "      <th>Item1</th>\n",
       "      <th>Item2</th>\n",
       "      <th>Item3</th>\n",
       "      <th>Item4</th>\n",
       "      <th>Item5</th>\n",
       "    </tr>\n",
       "  </thead>\n",
       "  <tbody>\n",
       "    <tr>\n",
       "      <th>0</th>\n",
       "      <td>T1</td>\n",
       "      <td>A</td>\n",
       "      <td>B</td>\n",
       "      <td>C</td>\n",
       "      <td>D</td>\n",
       "      <td>E</td>\n",
       "    </tr>\n",
       "    <tr>\n",
       "      <th>1</th>\n",
       "      <td>T2</td>\n",
       "      <td>A</td>\n",
       "      <td>C</td>\n",
       "      <td>D</td>\n",
       "      <td>E</td>\n",
       "      <td>F</td>\n",
       "    </tr>\n",
       "    <tr>\n",
       "      <th>2</th>\n",
       "      <td>T3</td>\n",
       "      <td>A</td>\n",
       "      <td>B</td>\n",
       "      <td>E</td>\n",
       "      <td>#</td>\n",
       "      <td>#</td>\n",
       "    </tr>\n",
       "    <tr>\n",
       "      <th>3</th>\n",
       "      <td>T4</td>\n",
       "      <td>A</td>\n",
       "      <td>C</td>\n",
       "      <td>F</td>\n",
       "      <td>G</td>\n",
       "      <td>H</td>\n",
       "    </tr>\n",
       "    <tr>\n",
       "      <th>4</th>\n",
       "      <td>T5</td>\n",
       "      <td>B</td>\n",
       "      <td>C</td>\n",
       "      <td>D</td>\n",
       "      <td>E</td>\n",
       "      <td>F</td>\n",
       "    </tr>\n",
       "  </tbody>\n",
       "</table>\n",
       "</div>"
      ],
      "text/plain": [
       "  Transaction Item1 Item2 Item3 Item4 Item5\n",
       "0          T1     A     B     C     D     E\n",
       "1          T2     A     C     D     E     F\n",
       "2          T3     A     B     E     #     #\n",
       "3          T4     A     C     F     G     H\n",
       "4          T5     B     C     D     E     F"
      ]
     },
     "execution_count": 6,
     "metadata": {},
     "output_type": "execute_result"
    }
   ],
   "source": [
    "df"
   ]
  },
  {
   "cell_type": "code",
   "execution_count": 7,
   "id": "19209fbc",
   "metadata": {
    "execution": {
     "iopub.execute_input": "2025-10-23T07:16:05.168047Z",
     "iopub.status.busy": "2025-10-23T07:16:05.167673Z",
     "iopub.status.idle": "2025-10-23T07:16:05.177714Z",
     "shell.execute_reply": "2025-10-23T07:16:05.176808Z"
    },
    "papermill": {
     "duration": 0.017646,
     "end_time": "2025-10-23T07:16:05.179340",
     "exception": false,
     "start_time": "2025-10-23T07:16:05.161694",
     "status": "completed"
    },
    "tags": []
   },
   "outputs": [],
   "source": [
    "df = df.drop('Transaction',axis=1)"
   ]
  },
  {
   "cell_type": "code",
   "execution_count": 8,
   "id": "65d98a02",
   "metadata": {
    "execution": {
     "iopub.execute_input": "2025-10-23T07:16:05.190539Z",
     "iopub.status.busy": "2025-10-23T07:16:05.190194Z",
     "iopub.status.idle": "2025-10-23T07:16:05.200803Z",
     "shell.execute_reply": "2025-10-23T07:16:05.199719Z"
    },
    "papermill": {
     "duration": 0.018434,
     "end_time": "2025-10-23T07:16:05.202828",
     "exception": false,
     "start_time": "2025-10-23T07:16:05.184394",
     "status": "completed"
    },
    "tags": []
   },
   "outputs": [
    {
     "data": {
      "text/html": [
       "<div>\n",
       "<style scoped>\n",
       "    .dataframe tbody tr th:only-of-type {\n",
       "        vertical-align: middle;\n",
       "    }\n",
       "\n",
       "    .dataframe tbody tr th {\n",
       "        vertical-align: top;\n",
       "    }\n",
       "\n",
       "    .dataframe thead th {\n",
       "        text-align: right;\n",
       "    }\n",
       "</style>\n",
       "<table border=\"1\" class=\"dataframe\">\n",
       "  <thead>\n",
       "    <tr style=\"text-align: right;\">\n",
       "      <th></th>\n",
       "      <th>Item1</th>\n",
       "      <th>Item2</th>\n",
       "      <th>Item3</th>\n",
       "      <th>Item4</th>\n",
       "      <th>Item5</th>\n",
       "    </tr>\n",
       "  </thead>\n",
       "  <tbody>\n",
       "    <tr>\n",
       "      <th>0</th>\n",
       "      <td>A</td>\n",
       "      <td>B</td>\n",
       "      <td>C</td>\n",
       "      <td>D</td>\n",
       "      <td>E</td>\n",
       "    </tr>\n",
       "    <tr>\n",
       "      <th>1</th>\n",
       "      <td>A</td>\n",
       "      <td>C</td>\n",
       "      <td>D</td>\n",
       "      <td>E</td>\n",
       "      <td>F</td>\n",
       "    </tr>\n",
       "    <tr>\n",
       "      <th>2</th>\n",
       "      <td>A</td>\n",
       "      <td>B</td>\n",
       "      <td>E</td>\n",
       "      <td>#</td>\n",
       "      <td>#</td>\n",
       "    </tr>\n",
       "    <tr>\n",
       "      <th>3</th>\n",
       "      <td>A</td>\n",
       "      <td>C</td>\n",
       "      <td>F</td>\n",
       "      <td>G</td>\n",
       "      <td>H</td>\n",
       "    </tr>\n",
       "    <tr>\n",
       "      <th>4</th>\n",
       "      <td>B</td>\n",
       "      <td>C</td>\n",
       "      <td>D</td>\n",
       "      <td>E</td>\n",
       "      <td>F</td>\n",
       "    </tr>\n",
       "  </tbody>\n",
       "</table>\n",
       "</div>"
      ],
      "text/plain": [
       "  Item1 Item2 Item3 Item4 Item5\n",
       "0     A     B     C     D     E\n",
       "1     A     C     D     E     F\n",
       "2     A     B     E     #     #\n",
       "3     A     C     F     G     H\n",
       "4     B     C     D     E     F"
      ]
     },
     "execution_count": 8,
     "metadata": {},
     "output_type": "execute_result"
    }
   ],
   "source": [
    "df.head()"
   ]
  },
  {
   "cell_type": "code",
   "execution_count": 9,
   "id": "cefdb686",
   "metadata": {
    "execution": {
     "iopub.execute_input": "2025-10-23T07:16:05.214085Z",
     "iopub.status.busy": "2025-10-23T07:16:05.213761Z",
     "iopub.status.idle": "2025-10-23T07:16:14.912053Z",
     "shell.execute_reply": "2025-10-23T07:16:14.910969Z"
    },
    "papermill": {
     "duration": 9.705948,
     "end_time": "2025-10-23T07:16:14.913918",
     "exception": false,
     "start_time": "2025-10-23T07:16:05.207970",
     "status": "completed"
    },
    "tags": []
   },
   "outputs": [
    {
     "name": "stdout",
     "output_type": "stream",
     "text": [
      "\u001b[2K   \u001b[90m━━━━━━━━━━━━━━━━━━━━━━━━━━━━━━━━━━━━━━━━\u001b[0m \u001b[32m9.7/9.7 MB\u001b[0m \u001b[31m61.6 MB/s\u001b[0m eta \u001b[36m0:00:00\u001b[0m\r\n",
      "\u001b[?25h\u001b[31mERROR: pip's dependency resolver does not currently take into account all the packages that are installed. This behaviour is the source of the following dependency conflicts.\r\n",
      "category-encoders 2.7.0 requires scikit-learn<1.6.0,>=1.0.0, but you have scikit-learn 1.7.2 which is incompatible.\r\n",
      "cesium 0.12.4 requires numpy<3.0,>=2.0, but you have numpy 1.26.4 which is incompatible.\r\n",
      "sklearn-compat 0.1.3 requires scikit-learn<1.7,>=1.2, but you have scikit-learn 1.7.2 which is incompatible.\u001b[0m\u001b[31m\r\n",
      "\u001b[0m"
     ]
    }
   ],
   "source": [
    "!pip install mlxtend --q"
   ]
  },
  {
   "cell_type": "code",
   "execution_count": 10,
   "id": "aa4ca9f4",
   "metadata": {
    "execution": {
     "iopub.execute_input": "2025-10-23T07:16:14.926386Z",
     "iopub.status.busy": "2025-10-23T07:16:14.926050Z",
     "iopub.status.idle": "2025-10-23T07:16:16.407066Z",
     "shell.execute_reply": "2025-10-23T07:16:16.406011Z"
    },
    "papermill": {
     "duration": 1.489097,
     "end_time": "2025-10-23T07:16:16.408617",
     "exception": false,
     "start_time": "2025-10-23T07:16:14.919520",
     "status": "completed"
    },
    "tags": []
   },
   "outputs": [],
   "source": [
    "from mlxtend.preprocessing import TransactionEncoder"
   ]
  },
  {
   "cell_type": "code",
   "execution_count": 11,
   "id": "de167e3c",
   "metadata": {
    "execution": {
     "iopub.execute_input": "2025-10-23T07:16:16.421391Z",
     "iopub.status.busy": "2025-10-23T07:16:16.420274Z",
     "iopub.status.idle": "2025-10-23T07:16:16.424681Z",
     "shell.execute_reply": "2025-10-23T07:16:16.423945Z"
    },
    "papermill": {
     "duration": 0.011937,
     "end_time": "2025-10-23T07:16:16.426060",
     "exception": false,
     "start_time": "2025-10-23T07:16:16.414123",
     "status": "completed"
    },
    "tags": []
   },
   "outputs": [],
   "source": [
    "te = TransactionEncoder()"
   ]
  },
  {
   "cell_type": "code",
   "execution_count": 12,
   "id": "10d95b29",
   "metadata": {
    "execution": {
     "iopub.execute_input": "2025-10-23T07:16:16.438005Z",
     "iopub.status.busy": "2025-10-23T07:16:16.437707Z",
     "iopub.status.idle": "2025-10-23T07:16:16.442598Z",
     "shell.execute_reply": "2025-10-23T07:16:16.441654Z"
    },
    "papermill": {
     "duration": 0.012333,
     "end_time": "2025-10-23T07:16:16.444077",
     "exception": false,
     "start_time": "2025-10-23T07:16:16.431744",
     "status": "completed"
    },
    "tags": []
   },
   "outputs": [],
   "source": [
    "te_ary = te.fit_transform(df.values.tolist()) # is we pass df then it will give some uintend"
   ]
  },
  {
   "cell_type": "code",
   "execution_count": 13,
   "id": "6531e7c9",
   "metadata": {
    "execution": {
     "iopub.execute_input": "2025-10-23T07:16:16.456394Z",
     "iopub.status.busy": "2025-10-23T07:16:16.455605Z",
     "iopub.status.idle": "2025-10-23T07:16:16.459853Z",
     "shell.execute_reply": "2025-10-23T07:16:16.458937Z"
    },
    "papermill": {
     "duration": 0.011859,
     "end_time": "2025-10-23T07:16:16.461337",
     "exception": false,
     "start_time": "2025-10-23T07:16:16.449478",
     "status": "completed"
    },
    "tags": []
   },
   "outputs": [],
   "source": [
    "te_ary = te_ary.tolist()"
   ]
  },
  {
   "cell_type": "code",
   "execution_count": 14,
   "id": "e1db4f87",
   "metadata": {
    "execution": {
     "iopub.execute_input": "2025-10-23T07:16:16.473050Z",
     "iopub.status.busy": "2025-10-23T07:16:16.472464Z",
     "iopub.status.idle": "2025-10-23T07:16:16.477876Z",
     "shell.execute_reply": "2025-10-23T07:16:16.477106Z"
    },
    "papermill": {
     "duration": 0.012636,
     "end_time": "2025-10-23T07:16:16.479181",
     "exception": false,
     "start_time": "2025-10-23T07:16:16.466545",
     "status": "completed"
    },
    "tags": []
   },
   "outputs": [
    {
     "data": {
      "text/plain": [
       "['#', 'A', 'B', 'C', 'D', 'E', 'F', 'G', 'H']"
      ]
     },
     "execution_count": 14,
     "metadata": {},
     "output_type": "execute_result"
    }
   ],
   "source": [
    "te.columns_"
   ]
  },
  {
   "cell_type": "code",
   "execution_count": 15,
   "id": "38665726",
   "metadata": {
    "execution": {
     "iopub.execute_input": "2025-10-23T07:16:16.491430Z",
     "iopub.status.busy": "2025-10-23T07:16:16.490887Z",
     "iopub.status.idle": "2025-10-23T07:16:16.495884Z",
     "shell.execute_reply": "2025-10-23T07:16:16.495086Z"
    },
    "papermill": {
     "duration": 0.01253,
     "end_time": "2025-10-23T07:16:16.497205",
     "exception": false,
     "start_time": "2025-10-23T07:16:16.484675",
     "status": "completed"
    },
    "tags": []
   },
   "outputs": [],
   "source": [
    "transc_df = pd.DataFrame(\n",
    "    te_ary,\n",
    "    columns=te.columns_\n",
    ")"
   ]
  },
  {
   "cell_type": "code",
   "execution_count": 16,
   "id": "272c9a46",
   "metadata": {
    "execution": {
     "iopub.execute_input": "2025-10-23T07:16:16.509618Z",
     "iopub.status.busy": "2025-10-23T07:16:16.508785Z",
     "iopub.status.idle": "2025-10-23T07:16:16.522103Z",
     "shell.execute_reply": "2025-10-23T07:16:16.521076Z"
    },
    "papermill": {
     "duration": 0.020866,
     "end_time": "2025-10-23T07:16:16.523441",
     "exception": false,
     "start_time": "2025-10-23T07:16:16.502575",
     "status": "completed"
    },
    "tags": []
   },
   "outputs": [
    {
     "data": {
      "text/html": [
       "<div>\n",
       "<style scoped>\n",
       "    .dataframe tbody tr th:only-of-type {\n",
       "        vertical-align: middle;\n",
       "    }\n",
       "\n",
       "    .dataframe tbody tr th {\n",
       "        vertical-align: top;\n",
       "    }\n",
       "\n",
       "    .dataframe thead th {\n",
       "        text-align: right;\n",
       "    }\n",
       "</style>\n",
       "<table border=\"1\" class=\"dataframe\">\n",
       "  <thead>\n",
       "    <tr style=\"text-align: right;\">\n",
       "      <th></th>\n",
       "      <th>#</th>\n",
       "      <th>A</th>\n",
       "      <th>B</th>\n",
       "      <th>C</th>\n",
       "      <th>D</th>\n",
       "      <th>E</th>\n",
       "      <th>F</th>\n",
       "      <th>G</th>\n",
       "      <th>H</th>\n",
       "    </tr>\n",
       "  </thead>\n",
       "  <tbody>\n",
       "    <tr>\n",
       "      <th>0</th>\n",
       "      <td>False</td>\n",
       "      <td>True</td>\n",
       "      <td>True</td>\n",
       "      <td>True</td>\n",
       "      <td>True</td>\n",
       "      <td>True</td>\n",
       "      <td>False</td>\n",
       "      <td>False</td>\n",
       "      <td>False</td>\n",
       "    </tr>\n",
       "    <tr>\n",
       "      <th>1</th>\n",
       "      <td>False</td>\n",
       "      <td>True</td>\n",
       "      <td>False</td>\n",
       "      <td>True</td>\n",
       "      <td>True</td>\n",
       "      <td>True</td>\n",
       "      <td>True</td>\n",
       "      <td>False</td>\n",
       "      <td>False</td>\n",
       "    </tr>\n",
       "    <tr>\n",
       "      <th>2</th>\n",
       "      <td>True</td>\n",
       "      <td>True</td>\n",
       "      <td>True</td>\n",
       "      <td>False</td>\n",
       "      <td>False</td>\n",
       "      <td>True</td>\n",
       "      <td>False</td>\n",
       "      <td>False</td>\n",
       "      <td>False</td>\n",
       "    </tr>\n",
       "    <tr>\n",
       "      <th>3</th>\n",
       "      <td>False</td>\n",
       "      <td>True</td>\n",
       "      <td>False</td>\n",
       "      <td>True</td>\n",
       "      <td>False</td>\n",
       "      <td>False</td>\n",
       "      <td>True</td>\n",
       "      <td>True</td>\n",
       "      <td>True</td>\n",
       "    </tr>\n",
       "    <tr>\n",
       "      <th>4</th>\n",
       "      <td>False</td>\n",
       "      <td>False</td>\n",
       "      <td>True</td>\n",
       "      <td>True</td>\n",
       "      <td>True</td>\n",
       "      <td>True</td>\n",
       "      <td>True</td>\n",
       "      <td>False</td>\n",
       "      <td>False</td>\n",
       "    </tr>\n",
       "  </tbody>\n",
       "</table>\n",
       "</div>"
      ],
      "text/plain": [
       "       #      A      B      C      D      E      F      G      H\n",
       "0  False   True   True   True   True   True  False  False  False\n",
       "1  False   True  False   True   True   True   True  False  False\n",
       "2   True   True   True  False  False   True  False  False  False\n",
       "3  False   True  False   True  False  False   True   True   True\n",
       "4  False  False   True   True   True   True   True  False  False"
      ]
     },
     "execution_count": 16,
     "metadata": {},
     "output_type": "execute_result"
    }
   ],
   "source": [
    "transc_df"
   ]
  },
  {
   "cell_type": "code",
   "execution_count": 17,
   "id": "0fcb518a",
   "metadata": {
    "execution": {
     "iopub.execute_input": "2025-10-23T07:16:16.535977Z",
     "iopub.status.busy": "2025-10-23T07:16:16.535644Z",
     "iopub.status.idle": "2025-10-23T07:16:16.542336Z",
     "shell.execute_reply": "2025-10-23T07:16:16.541553Z"
    },
    "papermill": {
     "duration": 0.014707,
     "end_time": "2025-10-23T07:16:16.544024",
     "exception": false,
     "start_time": "2025-10-23T07:16:16.529317",
     "status": "completed"
    },
    "tags": []
   },
   "outputs": [],
   "source": [
    "transc_df = transc_df.drop('#',axis=1)"
   ]
  },
  {
   "cell_type": "code",
   "execution_count": 18,
   "id": "850b6993",
   "metadata": {
    "execution": {
     "iopub.execute_input": "2025-10-23T07:16:16.556237Z",
     "iopub.status.busy": "2025-10-23T07:16:16.555915Z",
     "iopub.status.idle": "2025-10-23T07:16:16.566640Z",
     "shell.execute_reply": "2025-10-23T07:16:16.565894Z"
    },
    "papermill": {
     "duration": 0.01848,
     "end_time": "2025-10-23T07:16:16.568009",
     "exception": false,
     "start_time": "2025-10-23T07:16:16.549529",
     "status": "completed"
    },
    "tags": []
   },
   "outputs": [
    {
     "data": {
      "text/html": [
       "<div>\n",
       "<style scoped>\n",
       "    .dataframe tbody tr th:only-of-type {\n",
       "        vertical-align: middle;\n",
       "    }\n",
       "\n",
       "    .dataframe tbody tr th {\n",
       "        vertical-align: top;\n",
       "    }\n",
       "\n",
       "    .dataframe thead th {\n",
       "        text-align: right;\n",
       "    }\n",
       "</style>\n",
       "<table border=\"1\" class=\"dataframe\">\n",
       "  <thead>\n",
       "    <tr style=\"text-align: right;\">\n",
       "      <th></th>\n",
       "      <th>A</th>\n",
       "      <th>B</th>\n",
       "      <th>C</th>\n",
       "      <th>D</th>\n",
       "      <th>E</th>\n",
       "      <th>F</th>\n",
       "      <th>G</th>\n",
       "      <th>H</th>\n",
       "    </tr>\n",
       "  </thead>\n",
       "  <tbody>\n",
       "    <tr>\n",
       "      <th>0</th>\n",
       "      <td>True</td>\n",
       "      <td>True</td>\n",
       "      <td>True</td>\n",
       "      <td>True</td>\n",
       "      <td>True</td>\n",
       "      <td>False</td>\n",
       "      <td>False</td>\n",
       "      <td>False</td>\n",
       "    </tr>\n",
       "    <tr>\n",
       "      <th>1</th>\n",
       "      <td>True</td>\n",
       "      <td>False</td>\n",
       "      <td>True</td>\n",
       "      <td>True</td>\n",
       "      <td>True</td>\n",
       "      <td>True</td>\n",
       "      <td>False</td>\n",
       "      <td>False</td>\n",
       "    </tr>\n",
       "    <tr>\n",
       "      <th>2</th>\n",
       "      <td>True</td>\n",
       "      <td>True</td>\n",
       "      <td>False</td>\n",
       "      <td>False</td>\n",
       "      <td>True</td>\n",
       "      <td>False</td>\n",
       "      <td>False</td>\n",
       "      <td>False</td>\n",
       "    </tr>\n",
       "    <tr>\n",
       "      <th>3</th>\n",
       "      <td>True</td>\n",
       "      <td>False</td>\n",
       "      <td>True</td>\n",
       "      <td>False</td>\n",
       "      <td>False</td>\n",
       "      <td>True</td>\n",
       "      <td>True</td>\n",
       "      <td>True</td>\n",
       "    </tr>\n",
       "    <tr>\n",
       "      <th>4</th>\n",
       "      <td>False</td>\n",
       "      <td>True</td>\n",
       "      <td>True</td>\n",
       "      <td>True</td>\n",
       "      <td>True</td>\n",
       "      <td>True</td>\n",
       "      <td>False</td>\n",
       "      <td>False</td>\n",
       "    </tr>\n",
       "  </tbody>\n",
       "</table>\n",
       "</div>"
      ],
      "text/plain": [
       "       A      B      C      D      E      F      G      H\n",
       "0   True   True   True   True   True  False  False  False\n",
       "1   True  False   True   True   True   True  False  False\n",
       "2   True   True  False  False   True  False  False  False\n",
       "3   True  False   True  False  False   True   True   True\n",
       "4  False   True   True   True   True   True  False  False"
      ]
     },
     "execution_count": 18,
     "metadata": {},
     "output_type": "execute_result"
    }
   ],
   "source": [
    "transc_df"
   ]
  },
  {
   "cell_type": "code",
   "execution_count": 19,
   "id": "f6d12c57",
   "metadata": {
    "execution": {
     "iopub.execute_input": "2025-10-23T07:16:16.581018Z",
     "iopub.status.busy": "2025-10-23T07:16:16.580205Z",
     "iopub.status.idle": "2025-10-23T07:16:16.604476Z",
     "shell.execute_reply": "2025-10-23T07:16:16.603546Z"
    },
    "papermill": {
     "duration": 0.032339,
     "end_time": "2025-10-23T07:16:16.606194",
     "exception": false,
     "start_time": "2025-10-23T07:16:16.573855",
     "status": "completed"
    },
    "tags": []
   },
   "outputs": [],
   "source": [
    "# from mlxtend.frequent_patterns import apriori\n",
    "from mlxtend.frequent_patterns import fpgrowth"
   ]
  },
  {
   "cell_type": "code",
   "execution_count": 20,
   "id": "42724ad5",
   "metadata": {
    "execution": {
     "iopub.execute_input": "2025-10-23T07:16:16.619068Z",
     "iopub.status.busy": "2025-10-23T07:16:16.618727Z",
     "iopub.status.idle": "2025-10-23T07:16:16.622575Z",
     "shell.execute_reply": "2025-10-23T07:16:16.621766Z"
    },
    "papermill": {
     "duration": 0.011785,
     "end_time": "2025-10-23T07:16:16.623798",
     "exception": false,
     "start_time": "2025-10-23T07:16:16.612013",
     "status": "completed"
    },
    "tags": []
   },
   "outputs": [],
   "source": [
    "# rules = apriori(transc_df,min_support=0.6,use_colnames=True) # shift+tab: method signature"
   ]
  },
  {
   "cell_type": "code",
   "execution_count": 21,
   "id": "2cf81a6a",
   "metadata": {
    "execution": {
     "iopub.execute_input": "2025-10-23T07:16:16.636428Z",
     "iopub.status.busy": "2025-10-23T07:16:16.636127Z",
     "iopub.status.idle": "2025-10-23T07:16:16.646116Z",
     "shell.execute_reply": "2025-10-23T07:16:16.645273Z"
    },
    "papermill": {
     "duration": 0.017979,
     "end_time": "2025-10-23T07:16:16.647592",
     "exception": false,
     "start_time": "2025-10-23T07:16:16.629613",
     "status": "completed"
    },
    "tags": []
   },
   "outputs": [],
   "source": [
    "rules = fpgrowth(transc_df,min_support=0.6,use_colnames=True) # shift+tab: method signature"
   ]
  },
  {
   "cell_type": "code",
   "execution_count": 22,
   "id": "739afd14",
   "metadata": {
    "execution": {
     "iopub.execute_input": "2025-10-23T07:16:16.660099Z",
     "iopub.status.busy": "2025-10-23T07:16:16.659758Z",
     "iopub.status.idle": "2025-10-23T07:16:16.671784Z",
     "shell.execute_reply": "2025-10-23T07:16:16.670970Z"
    },
    "papermill": {
     "duration": 0.019837,
     "end_time": "2025-10-23T07:16:16.673158",
     "exception": false,
     "start_time": "2025-10-23T07:16:16.653321",
     "status": "completed"
    },
    "tags": []
   },
   "outputs": [
    {
     "data": {
      "text/html": [
       "<div>\n",
       "<style scoped>\n",
       "    .dataframe tbody tr th:only-of-type {\n",
       "        vertical-align: middle;\n",
       "    }\n",
       "\n",
       "    .dataframe tbody tr th {\n",
       "        vertical-align: top;\n",
       "    }\n",
       "\n",
       "    .dataframe thead th {\n",
       "        text-align: right;\n",
       "    }\n",
       "</style>\n",
       "<table border=\"1\" class=\"dataframe\">\n",
       "  <thead>\n",
       "    <tr style=\"text-align: right;\">\n",
       "      <th></th>\n",
       "      <th>support</th>\n",
       "      <th>itemsets</th>\n",
       "    </tr>\n",
       "  </thead>\n",
       "  <tbody>\n",
       "    <tr>\n",
       "      <th>0</th>\n",
       "      <td>0.8</td>\n",
       "      <td>(E)</td>\n",
       "    </tr>\n",
       "    <tr>\n",
       "      <th>1</th>\n",
       "      <td>0.8</td>\n",
       "      <td>(C)</td>\n",
       "    </tr>\n",
       "    <tr>\n",
       "      <th>2</th>\n",
       "      <td>0.8</td>\n",
       "      <td>(A)</td>\n",
       "    </tr>\n",
       "    <tr>\n",
       "      <th>3</th>\n",
       "      <td>0.6</td>\n",
       "      <td>(D)</td>\n",
       "    </tr>\n",
       "    <tr>\n",
       "      <th>4</th>\n",
       "      <td>0.6</td>\n",
       "      <td>(B)</td>\n",
       "    </tr>\n",
       "    <tr>\n",
       "      <th>5</th>\n",
       "      <td>0.6</td>\n",
       "      <td>(F)</td>\n",
       "    </tr>\n",
       "    <tr>\n",
       "      <th>6</th>\n",
       "      <td>0.6</td>\n",
       "      <td>(C, E)</td>\n",
       "    </tr>\n",
       "    <tr>\n",
       "      <th>7</th>\n",
       "      <td>0.6</td>\n",
       "      <td>(A, C)</td>\n",
       "    </tr>\n",
       "    <tr>\n",
       "      <th>8</th>\n",
       "      <td>0.6</td>\n",
       "      <td>(A, E)</td>\n",
       "    </tr>\n",
       "    <tr>\n",
       "      <th>9</th>\n",
       "      <td>0.6</td>\n",
       "      <td>(C, D)</td>\n",
       "    </tr>\n",
       "    <tr>\n",
       "      <th>10</th>\n",
       "      <td>0.6</td>\n",
       "      <td>(D, E)</td>\n",
       "    </tr>\n",
       "    <tr>\n",
       "      <th>11</th>\n",
       "      <td>0.6</td>\n",
       "      <td>(C, D, E)</td>\n",
       "    </tr>\n",
       "    <tr>\n",
       "      <th>12</th>\n",
       "      <td>0.6</td>\n",
       "      <td>(B, E)</td>\n",
       "    </tr>\n",
       "    <tr>\n",
       "      <th>13</th>\n",
       "      <td>0.6</td>\n",
       "      <td>(F, C)</td>\n",
       "    </tr>\n",
       "  </tbody>\n",
       "</table>\n",
       "</div>"
      ],
      "text/plain": [
       "    support   itemsets\n",
       "0       0.8        (E)\n",
       "1       0.8        (C)\n",
       "2       0.8        (A)\n",
       "3       0.6        (D)\n",
       "4       0.6        (B)\n",
       "5       0.6        (F)\n",
       "6       0.6     (C, E)\n",
       "7       0.6     (A, C)\n",
       "8       0.6     (A, E)\n",
       "9       0.6     (C, D)\n",
       "10      0.6     (D, E)\n",
       "11      0.6  (C, D, E)\n",
       "12      0.6     (B, E)\n",
       "13      0.6     (F, C)"
      ]
     },
     "execution_count": 22,
     "metadata": {},
     "output_type": "execute_result"
    }
   ],
   "source": [
    "rules"
   ]
  },
  {
   "cell_type": "code",
   "execution_count": 23,
   "id": "94d4d8dd",
   "metadata": {
    "execution": {
     "iopub.execute_input": "2025-10-23T07:16:16.686104Z",
     "iopub.status.busy": "2025-10-23T07:16:16.685771Z",
     "iopub.status.idle": "2025-10-23T07:16:16.689968Z",
     "shell.execute_reply": "2025-10-23T07:16:16.688944Z"
    },
    "papermill": {
     "duration": 0.012343,
     "end_time": "2025-10-23T07:16:16.691460",
     "exception": false,
     "start_time": "2025-10-23T07:16:16.679117",
     "status": "completed"
    },
    "tags": []
   },
   "outputs": [],
   "source": [
    "from mlxtend.frequent_patterns import association_rules"
   ]
  },
  {
   "cell_type": "code",
   "execution_count": 24,
   "id": "47bb923a",
   "metadata": {
    "execution": {
     "iopub.execute_input": "2025-10-23T07:16:16.704425Z",
     "iopub.status.busy": "2025-10-23T07:16:16.704123Z",
     "iopub.status.idle": "2025-10-23T07:16:16.714283Z",
     "shell.execute_reply": "2025-10-23T07:16:16.713421Z"
    },
    "papermill": {
     "duration": 0.018435,
     "end_time": "2025-10-23T07:16:16.715788",
     "exception": false,
     "start_time": "2025-10-23T07:16:16.697353",
     "status": "completed"
    },
    "tags": []
   },
   "outputs": [],
   "source": [
    "assoc_rules = association_rules(rules,min_threshold=0.8)"
   ]
  },
  {
   "cell_type": "code",
   "execution_count": 25,
   "id": "5097c530",
   "metadata": {
    "execution": {
     "iopub.execute_input": "2025-10-23T07:16:16.729741Z",
     "iopub.status.busy": "2025-10-23T07:16:16.728982Z",
     "iopub.status.idle": "2025-10-23T07:16:16.751676Z",
     "shell.execute_reply": "2025-10-23T07:16:16.750687Z"
    },
    "papermill": {
     "duration": 0.031628,
     "end_time": "2025-10-23T07:16:16.753311",
     "exception": false,
     "start_time": "2025-10-23T07:16:16.721683",
     "status": "completed"
    },
    "tags": []
   },
   "outputs": [
    {
     "data": {
      "text/html": [
       "<div>\n",
       "<style scoped>\n",
       "    .dataframe tbody tr th:only-of-type {\n",
       "        vertical-align: middle;\n",
       "    }\n",
       "\n",
       "    .dataframe tbody tr th {\n",
       "        vertical-align: top;\n",
       "    }\n",
       "\n",
       "    .dataframe thead th {\n",
       "        text-align: right;\n",
       "    }\n",
       "</style>\n",
       "<table border=\"1\" class=\"dataframe\">\n",
       "  <thead>\n",
       "    <tr style=\"text-align: right;\">\n",
       "      <th></th>\n",
       "      <th>antecedents</th>\n",
       "      <th>consequents</th>\n",
       "      <th>antecedent support</th>\n",
       "      <th>consequent support</th>\n",
       "      <th>support</th>\n",
       "      <th>confidence</th>\n",
       "      <th>lift</th>\n",
       "      <th>representativity</th>\n",
       "      <th>leverage</th>\n",
       "      <th>conviction</th>\n",
       "      <th>zhangs_metric</th>\n",
       "      <th>jaccard</th>\n",
       "      <th>certainty</th>\n",
       "      <th>kulczynski</th>\n",
       "    </tr>\n",
       "  </thead>\n",
       "  <tbody>\n",
       "    <tr>\n",
       "      <th>0</th>\n",
       "      <td>(D)</td>\n",
       "      <td>(C)</td>\n",
       "      <td>0.6</td>\n",
       "      <td>0.8</td>\n",
       "      <td>0.6</td>\n",
       "      <td>1.0</td>\n",
       "      <td>1.250000</td>\n",
       "      <td>1.0</td>\n",
       "      <td>0.12</td>\n",
       "      <td>inf</td>\n",
       "      <td>0.5</td>\n",
       "      <td>0.75</td>\n",
       "      <td>1.0</td>\n",
       "      <td>0.875</td>\n",
       "    </tr>\n",
       "    <tr>\n",
       "      <th>1</th>\n",
       "      <td>(D)</td>\n",
       "      <td>(E)</td>\n",
       "      <td>0.6</td>\n",
       "      <td>0.8</td>\n",
       "      <td>0.6</td>\n",
       "      <td>1.0</td>\n",
       "      <td>1.250000</td>\n",
       "      <td>1.0</td>\n",
       "      <td>0.12</td>\n",
       "      <td>inf</td>\n",
       "      <td>0.5</td>\n",
       "      <td>0.75</td>\n",
       "      <td>1.0</td>\n",
       "      <td>0.875</td>\n",
       "    </tr>\n",
       "    <tr>\n",
       "      <th>2</th>\n",
       "      <td>(C, D)</td>\n",
       "      <td>(E)</td>\n",
       "      <td>0.6</td>\n",
       "      <td>0.8</td>\n",
       "      <td>0.6</td>\n",
       "      <td>1.0</td>\n",
       "      <td>1.250000</td>\n",
       "      <td>1.0</td>\n",
       "      <td>0.12</td>\n",
       "      <td>inf</td>\n",
       "      <td>0.5</td>\n",
       "      <td>0.75</td>\n",
       "      <td>1.0</td>\n",
       "      <td>0.875</td>\n",
       "    </tr>\n",
       "    <tr>\n",
       "      <th>3</th>\n",
       "      <td>(C, E)</td>\n",
       "      <td>(D)</td>\n",
       "      <td>0.6</td>\n",
       "      <td>0.6</td>\n",
       "      <td>0.6</td>\n",
       "      <td>1.0</td>\n",
       "      <td>1.666667</td>\n",
       "      <td>1.0</td>\n",
       "      <td>0.24</td>\n",
       "      <td>inf</td>\n",
       "      <td>1.0</td>\n",
       "      <td>1.00</td>\n",
       "      <td>1.0</td>\n",
       "      <td>1.000</td>\n",
       "    </tr>\n",
       "    <tr>\n",
       "      <th>4</th>\n",
       "      <td>(D, E)</td>\n",
       "      <td>(C)</td>\n",
       "      <td>0.6</td>\n",
       "      <td>0.8</td>\n",
       "      <td>0.6</td>\n",
       "      <td>1.0</td>\n",
       "      <td>1.250000</td>\n",
       "      <td>1.0</td>\n",
       "      <td>0.12</td>\n",
       "      <td>inf</td>\n",
       "      <td>0.5</td>\n",
       "      <td>0.75</td>\n",
       "      <td>1.0</td>\n",
       "      <td>0.875</td>\n",
       "    </tr>\n",
       "    <tr>\n",
       "      <th>5</th>\n",
       "      <td>(D)</td>\n",
       "      <td>(C, E)</td>\n",
       "      <td>0.6</td>\n",
       "      <td>0.6</td>\n",
       "      <td>0.6</td>\n",
       "      <td>1.0</td>\n",
       "      <td>1.666667</td>\n",
       "      <td>1.0</td>\n",
       "      <td>0.24</td>\n",
       "      <td>inf</td>\n",
       "      <td>1.0</td>\n",
       "      <td>1.00</td>\n",
       "      <td>1.0</td>\n",
       "      <td>1.000</td>\n",
       "    </tr>\n",
       "    <tr>\n",
       "      <th>6</th>\n",
       "      <td>(B)</td>\n",
       "      <td>(E)</td>\n",
       "      <td>0.6</td>\n",
       "      <td>0.8</td>\n",
       "      <td>0.6</td>\n",
       "      <td>1.0</td>\n",
       "      <td>1.250000</td>\n",
       "      <td>1.0</td>\n",
       "      <td>0.12</td>\n",
       "      <td>inf</td>\n",
       "      <td>0.5</td>\n",
       "      <td>0.75</td>\n",
       "      <td>1.0</td>\n",
       "      <td>0.875</td>\n",
       "    </tr>\n",
       "    <tr>\n",
       "      <th>7</th>\n",
       "      <td>(F)</td>\n",
       "      <td>(C)</td>\n",
       "      <td>0.6</td>\n",
       "      <td>0.8</td>\n",
       "      <td>0.6</td>\n",
       "      <td>1.0</td>\n",
       "      <td>1.250000</td>\n",
       "      <td>1.0</td>\n",
       "      <td>0.12</td>\n",
       "      <td>inf</td>\n",
       "      <td>0.5</td>\n",
       "      <td>0.75</td>\n",
       "      <td>1.0</td>\n",
       "      <td>0.875</td>\n",
       "    </tr>\n",
       "  </tbody>\n",
       "</table>\n",
       "</div>"
      ],
      "text/plain": [
       "  antecedents consequents  antecedent support  consequent support  support  \\\n",
       "0         (D)         (C)                 0.6                 0.8      0.6   \n",
       "1         (D)         (E)                 0.6                 0.8      0.6   \n",
       "2      (C, D)         (E)                 0.6                 0.8      0.6   \n",
       "3      (C, E)         (D)                 0.6                 0.6      0.6   \n",
       "4      (D, E)         (C)                 0.6                 0.8      0.6   \n",
       "5         (D)      (C, E)                 0.6                 0.6      0.6   \n",
       "6         (B)         (E)                 0.6                 0.8      0.6   \n",
       "7         (F)         (C)                 0.6                 0.8      0.6   \n",
       "\n",
       "   confidence      lift  representativity  leverage  conviction  \\\n",
       "0         1.0  1.250000               1.0      0.12         inf   \n",
       "1         1.0  1.250000               1.0      0.12         inf   \n",
       "2         1.0  1.250000               1.0      0.12         inf   \n",
       "3         1.0  1.666667               1.0      0.24         inf   \n",
       "4         1.0  1.250000               1.0      0.12         inf   \n",
       "5         1.0  1.666667               1.0      0.24         inf   \n",
       "6         1.0  1.250000               1.0      0.12         inf   \n",
       "7         1.0  1.250000               1.0      0.12         inf   \n",
       "\n",
       "   zhangs_metric  jaccard  certainty  kulczynski  \n",
       "0            0.5     0.75        1.0       0.875  \n",
       "1            0.5     0.75        1.0       0.875  \n",
       "2            0.5     0.75        1.0       0.875  \n",
       "3            1.0     1.00        1.0       1.000  \n",
       "4            0.5     0.75        1.0       0.875  \n",
       "5            1.0     1.00        1.0       1.000  \n",
       "6            0.5     0.75        1.0       0.875  \n",
       "7            0.5     0.75        1.0       0.875  "
      ]
     },
     "execution_count": 25,
     "metadata": {},
     "output_type": "execute_result"
    }
   ],
   "source": [
    "assoc_rules"
   ]
  },
  {
   "cell_type": "code",
   "execution_count": 26,
   "id": "b31d1e39",
   "metadata": {
    "execution": {
     "iopub.execute_input": "2025-10-23T07:16:16.767146Z",
     "iopub.status.busy": "2025-10-23T07:16:16.766802Z",
     "iopub.status.idle": "2025-10-23T07:16:16.772935Z",
     "shell.execute_reply": "2025-10-23T07:16:16.771799Z"
    },
    "papermill": {
     "duration": 0.015048,
     "end_time": "2025-10-23T07:16:16.774756",
     "exception": false,
     "start_time": "2025-10-23T07:16:16.759708",
     "status": "completed"
    },
    "tags": []
   },
   "outputs": [
    {
     "data": {
      "text/plain": [
       "100"
      ]
     },
     "execution_count": 26,
     "metadata": {},
     "output_type": "execute_result"
    }
   ],
   "source": [
    "100"
   ]
  },
  {
   "cell_type": "code",
   "execution_count": 27,
   "id": "ea2593ab",
   "metadata": {
    "execution": {
     "iopub.execute_input": "2025-10-23T07:16:16.788620Z",
     "iopub.status.busy": "2025-10-23T07:16:16.788258Z",
     "iopub.status.idle": "2025-10-23T07:16:16.792455Z",
     "shell.execute_reply": "2025-10-23T07:16:16.791594Z"
    },
    "papermill": {
     "duration": 0.013453,
     "end_time": "2025-10-23T07:16:16.794387",
     "exception": false,
     "start_time": "2025-10-23T07:16:16.780934",
     "status": "completed"
    },
    "tags": []
   },
   "outputs": [],
   "source": [
    "# tap = time.time()\n",
    "# tfp = time.time()\n",
    "\n",
    "# same dataset\n",
    "\n",
    "# memory ..."
   ]
  }
 ],
 "metadata": {
  "kaggle": {
   "accelerator": "none",
   "dataSources": [],
   "dockerImageVersionId": 31153,
   "isGpuEnabled": false,
   "isInternetEnabled": true,
   "language": "python",
   "sourceType": "notebook"
  },
  "kernelspec": {
   "display_name": "Python 3",
   "language": "python",
   "name": "python3"
  },
  "language_info": {
   "codemirror_mode": {
    "name": "ipython",
    "version": 3
   },
   "file_extension": ".py",
   "mimetype": "text/x-python",
   "name": "python",
   "nbconvert_exporter": "python",
   "pygments_lexer": "ipython3",
   "version": "3.11.13"
  },
  "papermill": {
   "default_parameters": {},
   "duration": 18.984981,
   "end_time": "2025-10-23T07:16:17.421460",
   "environment_variables": {},
   "exception": null,
   "input_path": "__notebook__.ipynb",
   "output_path": "__notebook__.ipynb",
   "parameters": {},
   "start_time": "2025-10-23T07:15:58.436479",
   "version": "2.6.0"
  }
 },
 "nbformat": 4,
 "nbformat_minor": 5
}
