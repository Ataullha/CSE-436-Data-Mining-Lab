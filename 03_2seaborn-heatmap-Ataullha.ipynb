{
 "cells": [
  {
   "cell_type": "code",
   "execution_count": 1,
   "id": "b1242fb9",
   "metadata": {
    "_cell_guid": "b1076dfc-b9ad-4769-8c92-a6c4dae69d19",
    "_uuid": "8f2839f25d086af736a60e9eeb907d3b93b6e0e5",
    "execution": {
     "iopub.execute_input": "2025-10-21T14:07:25.591498Z",
     "iopub.status.busy": "2025-10-21T14:07:25.591057Z",
     "iopub.status.idle": "2025-10-21T14:07:27.691462Z",
     "shell.execute_reply": "2025-10-21T14:07:27.690226Z"
    },
    "papermill": {
     "duration": 2.107121,
     "end_time": "2025-10-21T14:07:27.693324",
     "exception": false,
     "start_time": "2025-10-21T14:07:25.586203",
     "status": "completed"
    },
    "tags": []
   },
   "outputs": [],
   "source": [
    "import pandas as pd"
   ]
  },
  {
   "cell_type": "code",
   "execution_count": 2,
   "id": "83d268e3",
   "metadata": {
    "execution": {
     "iopub.execute_input": "2025-10-21T14:07:27.700160Z",
     "iopub.status.busy": "2025-10-21T14:07:27.699751Z",
     "iopub.status.idle": "2025-10-21T14:07:27.880505Z",
     "shell.execute_reply": "2025-10-21T14:07:27.879392Z"
    },
    "papermill": {
     "duration": 0.185909,
     "end_time": "2025-10-21T14:07:27.882227",
     "exception": false,
     "start_time": "2025-10-21T14:07:27.696318",
     "status": "completed"
    },
    "tags": []
   },
   "outputs": [],
   "source": [
    "df = pd.read_csv('https://raw.githubusercontent.com/Ataullha/CSE-436-Data-Mining-Lab/refs/heads/main/titanic_train.csv')"
   ]
  },
  {
   "cell_type": "code",
   "execution_count": 3,
   "id": "d5664707",
   "metadata": {
    "execution": {
     "iopub.execute_input": "2025-10-21T14:07:27.889020Z",
     "iopub.status.busy": "2025-10-21T14:07:27.888397Z",
     "iopub.status.idle": "2025-10-21T14:07:27.920979Z",
     "shell.execute_reply": "2025-10-21T14:07:27.919607Z"
    },
    "papermill": {
     "duration": 0.037905,
     "end_time": "2025-10-21T14:07:27.922885",
     "exception": false,
     "start_time": "2025-10-21T14:07:27.884980",
     "status": "completed"
    },
    "tags": []
   },
   "outputs": [
    {
     "name": "stderr",
     "output_type": "stream",
     "text": [
      "/usr/local/lib/python3.11/dist-packages/pandas/io/formats/format.py:1458: RuntimeWarning: invalid value encountered in greater\n",
      "  has_large_values = (abs_vals > 1e6).any()\n",
      "/usr/local/lib/python3.11/dist-packages/pandas/io/formats/format.py:1459: RuntimeWarning: invalid value encountered in less\n",
      "  has_small_values = ((abs_vals < 10 ** (-self.digits)) & (abs_vals > 0)).any()\n",
      "/usr/local/lib/python3.11/dist-packages/pandas/io/formats/format.py:1459: RuntimeWarning: invalid value encountered in greater\n",
      "  has_small_values = ((abs_vals < 10 ** (-self.digits)) & (abs_vals > 0)).any()\n"
     ]
    },
    {
     "data": {
      "text/html": [
       "<div>\n",
       "<style scoped>\n",
       "    .dataframe tbody tr th:only-of-type {\n",
       "        vertical-align: middle;\n",
       "    }\n",
       "\n",
       "    .dataframe tbody tr th {\n",
       "        vertical-align: top;\n",
       "    }\n",
       "\n",
       "    .dataframe thead th {\n",
       "        text-align: right;\n",
       "    }\n",
       "</style>\n",
       "<table border=\"1\" class=\"dataframe\">\n",
       "  <thead>\n",
       "    <tr style=\"text-align: right;\">\n",
       "      <th></th>\n",
       "      <th>passenger_id</th>\n",
       "      <th>pclass</th>\n",
       "      <th>name</th>\n",
       "      <th>sex</th>\n",
       "      <th>age</th>\n",
       "      <th>sibsp</th>\n",
       "      <th>parch</th>\n",
       "      <th>ticket</th>\n",
       "      <th>fare</th>\n",
       "      <th>cabin</th>\n",
       "      <th>embarked</th>\n",
       "      <th>boat</th>\n",
       "      <th>body</th>\n",
       "      <th>home.dest</th>\n",
       "      <th>survived</th>\n",
       "    </tr>\n",
       "  </thead>\n",
       "  <tbody>\n",
       "    <tr>\n",
       "      <th>0</th>\n",
       "      <td>1216</td>\n",
       "      <td>3</td>\n",
       "      <td>Smyth, Miss. Julia</td>\n",
       "      <td>female</td>\n",
       "      <td>NaN</td>\n",
       "      <td>0</td>\n",
       "      <td>0</td>\n",
       "      <td>335432</td>\n",
       "      <td>7.7333</td>\n",
       "      <td>NaN</td>\n",
       "      <td>Q</td>\n",
       "      <td>13</td>\n",
       "      <td>NaN</td>\n",
       "      <td>NaN</td>\n",
       "      <td>1</td>\n",
       "    </tr>\n",
       "    <tr>\n",
       "      <th>1</th>\n",
       "      <td>699</td>\n",
       "      <td>3</td>\n",
       "      <td>Cacic, Mr. Luka</td>\n",
       "      <td>male</td>\n",
       "      <td>38.0</td>\n",
       "      <td>0</td>\n",
       "      <td>0</td>\n",
       "      <td>315089</td>\n",
       "      <td>8.6625</td>\n",
       "      <td>NaN</td>\n",
       "      <td>S</td>\n",
       "      <td>NaN</td>\n",
       "      <td>NaN</td>\n",
       "      <td>Croatia</td>\n",
       "      <td>0</td>\n",
       "    </tr>\n",
       "    <tr>\n",
       "      <th>2</th>\n",
       "      <td>1267</td>\n",
       "      <td>3</td>\n",
       "      <td>Van Impe, Mrs. Jean Baptiste (Rosalie Paula Go...</td>\n",
       "      <td>female</td>\n",
       "      <td>30.0</td>\n",
       "      <td>1</td>\n",
       "      <td>1</td>\n",
       "      <td>345773</td>\n",
       "      <td>24.1500</td>\n",
       "      <td>NaN</td>\n",
       "      <td>S</td>\n",
       "      <td>NaN</td>\n",
       "      <td>NaN</td>\n",
       "      <td>NaN</td>\n",
       "      <td>0</td>\n",
       "    </tr>\n",
       "    <tr>\n",
       "      <th>3</th>\n",
       "      <td>449</td>\n",
       "      <td>2</td>\n",
       "      <td>Hocking, Mrs. Elizabeth (Eliza Needs)</td>\n",
       "      <td>female</td>\n",
       "      <td>54.0</td>\n",
       "      <td>1</td>\n",
       "      <td>3</td>\n",
       "      <td>29105</td>\n",
       "      <td>23.0000</td>\n",
       "      <td>NaN</td>\n",
       "      <td>S</td>\n",
       "      <td>4</td>\n",
       "      <td>NaN</td>\n",
       "      <td>Cornwall / Akron, OH</td>\n",
       "      <td>1</td>\n",
       "    </tr>\n",
       "    <tr>\n",
       "      <th>4</th>\n",
       "      <td>576</td>\n",
       "      <td>2</td>\n",
       "      <td>Veal, Mr. James</td>\n",
       "      <td>male</td>\n",
       "      <td>40.0</td>\n",
       "      <td>0</td>\n",
       "      <td>0</td>\n",
       "      <td>28221</td>\n",
       "      <td>13.0000</td>\n",
       "      <td>NaN</td>\n",
       "      <td>S</td>\n",
       "      <td>NaN</td>\n",
       "      <td>NaN</td>\n",
       "      <td>Barre, Co Washington, VT</td>\n",
       "      <td>0</td>\n",
       "    </tr>\n",
       "  </tbody>\n",
       "</table>\n",
       "</div>"
      ],
      "text/plain": [
       "   passenger_id  pclass                                               name  \\\n",
       "0          1216       3                                 Smyth, Miss. Julia   \n",
       "1           699       3                                    Cacic, Mr. Luka   \n",
       "2          1267       3  Van Impe, Mrs. Jean Baptiste (Rosalie Paula Go...   \n",
       "3           449       2              Hocking, Mrs. Elizabeth (Eliza Needs)   \n",
       "4           576       2                                    Veal, Mr. James   \n",
       "\n",
       "      sex   age  sibsp  parch  ticket     fare cabin embarked boat  body  \\\n",
       "0  female   NaN      0      0  335432   7.7333   NaN        Q   13   NaN   \n",
       "1    male  38.0      0      0  315089   8.6625   NaN        S  NaN   NaN   \n",
       "2  female  30.0      1      1  345773  24.1500   NaN        S  NaN   NaN   \n",
       "3  female  54.0      1      3   29105  23.0000   NaN        S    4   NaN   \n",
       "4    male  40.0      0      0   28221  13.0000   NaN        S  NaN   NaN   \n",
       "\n",
       "                  home.dest  survived  \n",
       "0                       NaN         1  \n",
       "1                   Croatia         0  \n",
       "2                       NaN         0  \n",
       "3      Cornwall / Akron, OH         1  \n",
       "4  Barre, Co Washington, VT         0  "
      ]
     },
     "execution_count": 3,
     "metadata": {},
     "output_type": "execute_result"
    }
   ],
   "source": [
    "df.head()"
   ]
  },
  {
   "cell_type": "code",
   "execution_count": 4,
   "id": "205219ea",
   "metadata": {
    "execution": {
     "iopub.execute_input": "2025-10-21T14:07:27.930750Z",
     "iopub.status.busy": "2025-10-21T14:07:27.930059Z",
     "iopub.status.idle": "2025-10-21T14:07:27.939801Z",
     "shell.execute_reply": "2025-10-21T14:07:27.938837Z"
    },
    "papermill": {
     "duration": 0.015245,
     "end_time": "2025-10-21T14:07:27.941324",
     "exception": false,
     "start_time": "2025-10-21T14:07:27.926079",
     "status": "completed"
    },
    "tags": []
   },
   "outputs": [],
   "source": [
    "df['age'] = df['age'].fillna(df['age'].mean())\n",
    "df['fare'] = df['fare'].fillna(df['fare'].mean())"
   ]
  },
  {
   "cell_type": "code",
   "execution_count": 5,
   "id": "457dd9ae",
   "metadata": {
    "execution": {
     "iopub.execute_input": "2025-10-21T14:07:27.948457Z",
     "iopub.status.busy": "2025-10-21T14:07:27.948125Z",
     "iopub.status.idle": "2025-10-21T14:07:27.971123Z",
     "shell.execute_reply": "2025-10-21T14:07:27.969903Z"
    },
    "papermill": {
     "duration": 0.028403,
     "end_time": "2025-10-21T14:07:27.972756",
     "exception": false,
     "start_time": "2025-10-21T14:07:27.944353",
     "status": "completed"
    },
    "tags": []
   },
   "outputs": [
    {
     "name": "stdout",
     "output_type": "stream",
     "text": [
      "<class 'pandas.core.frame.DataFrame'>\n",
      "RangeIndex: 850 entries, 0 to 849\n",
      "Data columns (total 15 columns):\n",
      " #   Column        Non-Null Count  Dtype  \n",
      "---  ------        --------------  -----  \n",
      " 0   passenger_id  850 non-null    int64  \n",
      " 1   pclass        850 non-null    int64  \n",
      " 2   name          850 non-null    object \n",
      " 3   sex           850 non-null    object \n",
      " 4   age           850 non-null    float64\n",
      " 5   sibsp         850 non-null    int64  \n",
      " 6   parch         850 non-null    int64  \n",
      " 7   ticket        850 non-null    object \n",
      " 8   fare          850 non-null    float64\n",
      " 9   cabin         191 non-null    object \n",
      " 10  embarked      849 non-null    object \n",
      " 11  boat          308 non-null    object \n",
      " 12  body          73 non-null     float64\n",
      " 13  home.dest     464 non-null    object \n",
      " 14  survived      850 non-null    int64  \n",
      "dtypes: float64(3), int64(5), object(7)\n",
      "memory usage: 99.7+ KB\n"
     ]
    }
   ],
   "source": [
    "df.info()"
   ]
  },
  {
   "cell_type": "code",
   "execution_count": 6,
   "id": "3cb7da5b",
   "metadata": {
    "execution": {
     "iopub.execute_input": "2025-10-21T14:07:27.979917Z",
     "iopub.status.busy": "2025-10-21T14:07:27.979618Z",
     "iopub.status.idle": "2025-10-21T14:07:27.983889Z",
     "shell.execute_reply": "2025-10-21T14:07:27.982956Z"
    },
    "papermill": {
     "duration": 0.009643,
     "end_time": "2025-10-21T14:07:27.985465",
     "exception": false,
     "start_time": "2025-10-21T14:07:27.975822",
     "status": "completed"
    },
    "tags": []
   },
   "outputs": [],
   "source": [
    "# correlation"
   ]
  },
  {
   "cell_type": "code",
   "execution_count": 7,
   "id": "4d9d984d",
   "metadata": {
    "execution": {
     "iopub.execute_input": "2025-10-21T14:07:27.992868Z",
     "iopub.status.busy": "2025-10-21T14:07:27.992196Z",
     "iopub.status.idle": "2025-10-21T14:07:28.002468Z",
     "shell.execute_reply": "2025-10-21T14:07:28.001393Z"
    },
    "papermill": {
     "duration": 0.015977,
     "end_time": "2025-10-21T14:07:28.004483",
     "exception": false,
     "start_time": "2025-10-21T14:07:27.988506",
     "status": "completed"
    },
    "tags": []
   },
   "outputs": [],
   "source": [
    "matrix = df[['age','fare']].corr()"
   ]
  },
  {
   "cell_type": "code",
   "execution_count": 8,
   "id": "01932d6a",
   "metadata": {
    "execution": {
     "iopub.execute_input": "2025-10-21T14:07:28.011924Z",
     "iopub.status.busy": "2025-10-21T14:07:28.011614Z",
     "iopub.status.idle": "2025-10-21T14:07:30.084114Z",
     "shell.execute_reply": "2025-10-21T14:07:30.083251Z"
    },
    "papermill": {
     "duration": 2.078038,
     "end_time": "2025-10-21T14:07:30.085792",
     "exception": false,
     "start_time": "2025-10-21T14:07:28.007754",
     "status": "completed"
    },
    "tags": []
   },
   "outputs": [],
   "source": [
    "import seaborn as sns"
   ]
  },
  {
   "cell_type": "code",
   "execution_count": 9,
   "id": "98ce9e96",
   "metadata": {
    "execution": {
     "iopub.execute_input": "2025-10-21T14:07:30.093398Z",
     "iopub.status.busy": "2025-10-21T14:07:30.092902Z",
     "iopub.status.idle": "2025-10-21T14:07:30.097633Z",
     "shell.execute_reply": "2025-10-21T14:07:30.096539Z"
    },
    "papermill": {
     "duration": 0.010479,
     "end_time": "2025-10-21T14:07:30.099360",
     "exception": false,
     "start_time": "2025-10-21T14:07:30.088881",
     "status": "completed"
    },
    "tags": []
   },
   "outputs": [],
   "source": [
    "import matplotlib.pyplot as plt"
   ]
  },
  {
   "cell_type": "code",
   "execution_count": 10,
   "id": "51c7ee06",
   "metadata": {
    "execution": {
     "iopub.execute_input": "2025-10-21T14:07:30.106710Z",
     "iopub.status.busy": "2025-10-21T14:07:30.106412Z",
     "iopub.status.idle": "2025-10-21T14:07:31.656316Z",
     "shell.execute_reply": "2025-10-21T14:07:31.655376Z"
    },
    "papermill": {
     "duration": 1.555715,
     "end_time": "2025-10-21T14:07:31.658156",
     "exception": false,
     "start_time": "2025-10-21T14:07:30.102441",
     "status": "completed"
    },
    "tags": []
   },
   "outputs": [
    {
     "data": {
      "image/png": "[encoded data removed]",
      "text/plain": [
       "<Figure size 640x480 with 2 Axes>"
      ]
     },
     "metadata": {},
     "output_type": "display_data"
    }
   ],
   "source": [
    "sns.heatmap(matrix,annot=True,cmap='PuOr')\n",
    "plt.title(\"Demo Title\")\n",
    "plt.savefig(\"demo-heatmap.pdf\",dpi=1200)"
   ]
  },
  {
   "cell_type": "code",
   "execution_count": null,
   "id": "852d4893",
   "metadata": {
    "papermill": {
     "duration": 0.003043,
     "end_time": "2025-10-21T14:07:31.664792",
     "exception": false,
     "start_time": "2025-10-21T14:07:31.661749",
     "status": "completed"
    },
    "tags": []
   },
   "outputs": [],
   "source": []
  }
 ],
 "metadata": {
  "kaggle": {
   "accelerator": "none",
   "dataSources": [],
   "dockerImageVersionId": 31153,
   "isGpuEnabled": false,
   "isInternetEnabled": true,
   "language": "python",
   "sourceType": "notebook"
  },
  "kernelspec": {
   "display_name": "Python 3",
   "language": "python",
   "name": "python3"
  },
  "language_info": {
   "codemirror_mode": {
    "name": "ipython",
    "version": 3
   },
   "file_extension": ".py",
   "mimetype": "text/x-python",
   "name": "python",
   "nbconvert_exporter": "python",
   "pygments_lexer": "ipython3",
   "version": "3.11.13"
  },
  "papermill": {
   "default_parameters": {},
   "duration": 11.954468,
   "end_time": "2025-10-21T14:07:32.388546",
   "environment_variables": {},
   "exception": null,
   "input_path": "__notebook__.ipynb",
   "output_path": "__notebook__.ipynb",
   "parameters": {},
   "start_time": "2025-10-21T14:07:20.434078",
   "version": "2.6.0"
  }
 },
 "nbformat": 4,
 "nbformat_minor": 5
}
