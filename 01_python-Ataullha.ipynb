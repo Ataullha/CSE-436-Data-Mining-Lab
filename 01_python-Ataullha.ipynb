{
 "cells": [
  {
   "cell_type": "code",
   "execution_count": 1,
   "id": "11b4bd24",
   "metadata": {
    "_cell_guid": "b1076dfc-b9ad-4769-8c92-a6c4dae69d19",
    "_uuid": "8f2839f25d086af736a60e9eeb907d3b93b6e0e5",
    "execution": {
     "iopub.execute_input": "2025-09-30T15:29:00.124668Z",
     "iopub.status.busy": "2025-09-30T15:29:00.124339Z",
     "iopub.status.idle": "2025-09-30T15:29:00.133866Z",
     "shell.execute_reply": "2025-09-30T15:29:00.133006Z"
    },
    "papermill": {
     "duration": 0.020753,
     "end_time": "2025-09-30T15:29:00.135571",
     "exception": false,
     "start_time": "2025-09-30T15:29:00.114818",
     "status": "completed"
    },
    "tags": []
   },
   "outputs": [
    {
     "name": "stdout",
     "output_type": "stream",
     "text": [
      "Hello World!\n"
     ]
    }
   ],
   "source": [
    "print(\"Hello World!\")"
   ]
  },
  {
   "cell_type": "code",
   "execution_count": 2,
   "id": "7711d059",
   "metadata": {
    "execution": {
     "iopub.execute_input": "2025-09-30T15:29:00.152736Z",
     "iopub.status.busy": "2025-09-30T15:29:00.152397Z",
     "iopub.status.idle": "2025-09-30T15:29:00.157394Z",
     "shell.execute_reply": "2025-09-30T15:29:00.156497Z"
    },
    "papermill": {
     "duration": 0.015166,
     "end_time": "2025-09-30T15:29:00.158886",
     "exception": false,
     "start_time": "2025-09-30T15:29:00.143720",
     "status": "completed"
    },
    "tags": []
   },
   "outputs": [
    {
     "name": "stdout",
     "output_type": "stream",
     "text": [
      "Hello World!\n"
     ]
    }
   ],
   "source": [
    "print('Hello World!')"
   ]
  },
  {
   "cell_type": "code",
   "execution_count": 3,
   "id": "795970d6",
   "metadata": {
    "execution": {
     "iopub.execute_input": "2025-09-30T15:29:00.175977Z",
     "iopub.status.busy": "2025-09-30T15:29:00.175608Z",
     "iopub.status.idle": "2025-09-30T15:29:00.181109Z",
     "shell.execute_reply": "2025-09-30T15:29:00.180037Z"
    },
    "papermill": {
     "duration": 0.016003,
     "end_time": "2025-09-30T15:29:00.182823",
     "exception": false,
     "start_time": "2025-09-30T15:29:00.166820",
     "status": "completed"
    },
    "tags": []
   },
   "outputs": [
    {
     "name": "stdout",
     "output_type": "stream",
     "text": [
      "This is n: 100\n"
     ]
    }
   ],
   "source": [
    "n = 100\n",
    "m = 50\n",
    "# print(\"This is n: \"+str(n))\n",
    "# print(f\"This is n: {n}, and m: {m}\")\n",
    "print(\"This is n:\",n)"
   ]
  },
  {
   "cell_type": "code",
   "execution_count": 4,
   "id": "d29f8b71",
   "metadata": {
    "execution": {
     "iopub.execute_input": "2025-09-30T15:29:00.207854Z",
     "iopub.status.busy": "2025-09-30T15:29:00.207421Z",
     "iopub.status.idle": "2025-09-30T15:29:00.213431Z",
     "shell.execute_reply": "2025-09-30T15:29:00.212488Z"
    },
    "papermill": {
     "duration": 0.019807,
     "end_time": "2025-09-30T15:29:00.215337",
     "exception": false,
     "start_time": "2025-09-30T15:29:00.195530",
     "status": "completed"
    },
    "tags": []
   },
   "outputs": [
    {
     "name": "stdout",
     "output_type": "stream",
     "text": [
      "He said, \"I eat rice.\n",
      "\n",
      "I\n",
      "eat\n",
      "rice\n",
      "\n"
     ]
    }
   ],
   "source": [
    "print('He said, \"I eat rice.')\n",
    "print('''\n",
    "I\n",
    "eat\n",
    "rice\n",
    "''')"
   ]
  },
  {
   "cell_type": "code",
   "execution_count": 5,
   "id": "70dd9315",
   "metadata": {
    "execution": {
     "iopub.execute_input": "2025-09-30T15:29:00.234178Z",
     "iopub.status.busy": "2025-09-30T15:29:00.233569Z",
     "iopub.status.idle": "2025-09-30T15:29:00.239703Z",
     "shell.execute_reply": "2025-09-30T15:29:00.238264Z"
    },
    "papermill": {
     "duration": 0.016795,
     "end_time": "2025-09-30T15:29:00.241648",
     "exception": false,
     "start_time": "2025-09-30T15:29:00.224853",
     "status": "completed"
    },
    "tags": []
   },
   "outputs": [
    {
     "name": "stdout",
     "output_type": "stream",
     "text": [
      "DM Lab\n"
     ]
    }
   ],
   "source": [
    "fn = 'DM'\n",
    "ln = 'Lab'\n",
    "full_name = fn+\" \"+ln\n",
    "print(full_name)"
   ]
  },
  {
   "cell_type": "code",
   "execution_count": 6,
   "id": "65af94b7",
   "metadata": {
    "execution": {
     "iopub.execute_input": "2025-09-30T15:29:00.258594Z",
     "iopub.status.busy": "2025-09-30T15:29:00.258294Z",
     "iopub.status.idle": "2025-09-30T15:29:00.265276Z",
     "shell.execute_reply": "2025-09-30T15:29:00.264287Z"
    },
    "papermill": {
     "duration": 0.017455,
     "end_time": "2025-09-30T15:29:00.266866",
     "exception": false,
     "start_time": "2025-09-30T15:29:00.249411",
     "status": "completed"
    },
    "tags": []
   },
   "outputs": [
    {
     "data": {
      "text/plain": [
       "'DM Lab DM Lab DM Lab '"
      ]
     },
     "execution_count": 6,
     "metadata": {},
     "output_type": "execute_result"
    }
   ],
   "source": [
    "(full_name+' ')*3"
   ]
  },
  {
   "cell_type": "code",
   "execution_count": 7,
   "id": "5d852e9f",
   "metadata": {
    "execution": {
     "iopub.execute_input": "2025-09-30T15:29:00.283714Z",
     "iopub.status.busy": "2025-09-30T15:29:00.283411Z",
     "iopub.status.idle": "2025-09-30T15:29:00.289615Z",
     "shell.execute_reply": "2025-09-30T15:29:00.288779Z"
    },
    "papermill": {
     "duration": 0.016449,
     "end_time": "2025-09-30T15:29:00.291089",
     "exception": false,
     "start_time": "2025-09-30T15:29:00.274640",
     "status": "completed"
    },
    "tags": []
   },
   "outputs": [
    {
     "data": {
      "text/plain": [
       "False"
      ]
     },
     "execution_count": 7,
     "metadata": {},
     "output_type": "execute_result"
    }
   ],
   "source": [
    "n = 100\n",
    "# typecast\n",
    "str(n)\n",
    "float(n)\n",
    "\n",
    "bool(n)\n",
    "\n",
    "bool(0)\n",
    "bool([])\n",
    "bool('')"
   ]
  },
  {
   "cell_type": "code",
   "execution_count": 8,
   "id": "bf4e3b8f",
   "metadata": {
    "execution": {
     "iopub.execute_input": "2025-09-30T15:29:00.307701Z",
     "iopub.status.busy": "2025-09-30T15:29:00.307381Z",
     "iopub.status.idle": "2025-09-30T15:29:00.313556Z",
     "shell.execute_reply": "2025-09-30T15:29:00.312547Z"
    },
    "papermill": {
     "duration": 0.016221,
     "end_time": "2025-09-30T15:29:00.315091",
     "exception": false,
     "start_time": "2025-09-30T15:29:00.298870",
     "status": "completed"
    },
    "tags": []
   },
   "outputs": [
    {
     "data": {
      "text/plain": [
       "float"
      ]
     },
     "execution_count": 8,
     "metadata": {},
     "output_type": "execute_result"
    }
   ],
   "source": [
    "pi = 3.14\n",
    "off = True\n",
    "type(pi)"
   ]
  },
  {
   "cell_type": "code",
   "execution_count": 9,
   "id": "1c1e0b99",
   "metadata": {
    "execution": {
     "iopub.execute_input": "2025-09-30T15:29:00.333636Z",
     "iopub.status.busy": "2025-09-30T15:29:00.332793Z",
     "iopub.status.idle": "2025-09-30T15:29:00.404418Z",
     "shell.execute_reply": "2025-09-30T15:29:00.403251Z"
    },
    "papermill": {
     "duration": 0.082633,
     "end_time": "2025-09-30T15:29:00.406112",
     "exception": true,
     "start_time": "2025-09-30T15:29:00.323479",
     "status": "failed"
    },
    "tags": []
   },
   "outputs": [
    {
     "ename": "StdinNotImplementedError",
     "evalue": "raw_input was called, but this frontend does not support input requests.",
     "output_type": "error",
     "traceback": [
      "\u001b[0;31m---------------------------------------------------------------------------\u001b[0m",
      "\u001b[0;31mStdinNotImplementedError\u001b[0m                  Traceback (most recent call last)",
      "\u001b[0;32m/tmp/ipykernel_14/2215849582.py\u001b[0m in \u001b[0;36m<cell line: 0>\u001b[0;34m()\u001b[0m\n\u001b[1;32m      1\u001b[0m \u001b[0;31m# input => String\u001b[0m\u001b[0;34m\u001b[0m\u001b[0;34m\u001b[0m\u001b[0m\n\u001b[0;32m----> 2\u001b[0;31m \u001b[0mtemp\u001b[0m \u001b[0;34m=\u001b[0m \u001b[0mint\u001b[0m\u001b[0;34m(\u001b[0m\u001b[0minput\u001b[0m\u001b[0;34m(\u001b[0m\u001b[0;34m\"Enter a number: \"\u001b[0m\u001b[0;34m)\u001b[0m\u001b[0;34m)\u001b[0m\u001b[0;34m\u001b[0m\u001b[0;34m\u001b[0m\u001b[0m\n\u001b[0m\u001b[1;32m      3\u001b[0m \u001b[0mtype\u001b[0m\u001b[0;34m(\u001b[0m\u001b[0mtemp\u001b[0m\u001b[0;34m)\u001b[0m\u001b[0;34m\u001b[0m\u001b[0;34m\u001b[0m\u001b[0m\n",
      "\u001b[0;32m/usr/local/lib/python3.11/dist-packages/ipykernel/kernelbase.py\u001b[0m in \u001b[0;36mraw_input\u001b[0;34m(self, prompt)\u001b[0m\n\u001b[1;32m   1172\u001b[0m         \"\"\"\n\u001b[1;32m   1173\u001b[0m         \u001b[0;32mif\u001b[0m \u001b[0;32mnot\u001b[0m \u001b[0mself\u001b[0m\u001b[0;34m.\u001b[0m\u001b[0m_allow_stdin\u001b[0m\u001b[0;34m:\u001b[0m\u001b[0;34m\u001b[0m\u001b[0;34m\u001b[0m\u001b[0m\n\u001b[0;32m-> 1174\u001b[0;31m             raise StdinNotImplementedError(\n\u001b[0m\u001b[1;32m   1175\u001b[0m                 \u001b[0;34m\"raw_input was called, but this frontend does not support input requests.\"\u001b[0m\u001b[0;34m\u001b[0m\u001b[0;34m\u001b[0m\u001b[0m\n\u001b[1;32m   1176\u001b[0m             )\n",
      "\u001b[0;31mStdinNotImplementedError\u001b[0m: raw_input was called, but this frontend does not support input requests."
     ]
    }
   ],
   "source": [
    "# input => String\n",
    "temp = int(input(\"Enter a number: \"))\n",
    "type(temp)"
   ]
  },
  {
   "cell_type": "code",
   "execution_count": null,
   "id": "18e779cd",
   "metadata": {
    "execution": {
     "iopub.execute_input": "2025-09-30T14:04:44.046607Z",
     "iopub.status.busy": "2025-09-30T14:04:44.046268Z",
     "iopub.status.idle": "2025-09-30T14:04:45.752813Z",
     "shell.execute_reply": "2025-09-30T14:04:45.751965Z",
     "shell.execute_reply.started": "2025-09-30T14:04:44.046584Z"
    },
    "papermill": {
     "duration": null,
     "end_time": null,
     "exception": null,
     "start_time": null,
     "status": "pending"
    },
    "tags": []
   },
   "outputs": [],
   "source": [
    "n, m = map(int,input().split())\n",
    "n, m"
   ]
  },
  {
   "cell_type": "code",
   "execution_count": null,
   "id": "33865a92",
   "metadata": {
    "execution": {
     "iopub.execute_input": "2025-09-30T14:06:42.389636Z",
     "iopub.status.busy": "2025-09-30T14:06:42.389358Z",
     "iopub.status.idle": "2025-09-30T14:06:42.395059Z",
     "shell.execute_reply": "2025-09-30T14:06:42.394053Z",
     "shell.execute_reply.started": "2025-09-30T14:06:42.389616Z"
    },
    "papermill": {
     "duration": null,
     "end_time": null,
     "exception": null,
     "start_time": null,
     "status": "pending"
    },
    "tags": []
   },
   "outputs": [],
   "source": [
    "x = 3\n",
    "y = 2\n",
    "print(x/y) # 1.5\n",
    "print(x//y) # floor/int\n",
    "print(x**y) # 3^2 = 9\n",
    "\n",
    "print(x%y) # modulus, reminder ..."
   ]
  },
  {
   "cell_type": "code",
   "execution_count": null,
   "id": "b155e709",
   "metadata": {
    "execution": {
     "iopub.execute_input": "2025-09-30T14:08:10.275610Z",
     "iopub.status.busy": "2025-09-30T14:08:10.275322Z",
     "iopub.status.idle": "2025-09-30T14:08:10.281008Z",
     "shell.execute_reply": "2025-09-30T14:08:10.280200Z",
     "shell.execute_reply.started": "2025-09-30T14:08:10.275589Z"
    },
    "papermill": {
     "duration": null,
     "end_time": null,
     "exception": null,
     "start_time": null,
     "status": "pending"
    },
    "tags": []
   },
   "outputs": [],
   "source": [
    "pow(3,2,5) # 9%5 = 4"
   ]
  },
  {
   "cell_type": "code",
   "execution_count": null,
   "id": "3b4468ac",
   "metadata": {
    "execution": {
     "iopub.execute_input": "2025-09-30T14:09:44.344157Z",
     "iopub.status.busy": "2025-09-30T14:09:44.343858Z",
     "iopub.status.idle": "2025-09-30T14:09:44.348802Z",
     "shell.execute_reply": "2025-09-30T14:09:44.347992Z",
     "shell.execute_reply.started": "2025-09-30T14:09:44.344114Z"
    },
    "papermill": {
     "duration": null,
     "end_time": null,
     "exception": null,
     "start_time": null,
     "status": "pending"
    },
    "tags": []
   },
   "outputs": [],
   "source": [
    "x = 3\n",
    "y = 2\n",
    "print(x!=y)\n",
    "print(x==y)"
   ]
  },
  {
   "cell_type": "code",
   "execution_count": null,
   "id": "20d48a0c",
   "metadata": {
    "execution": {
     "iopub.execute_input": "2025-09-30T14:11:15.653711Z",
     "iopub.status.busy": "2025-09-30T14:11:15.653409Z",
     "iopub.status.idle": "2025-09-30T14:11:15.659112Z",
     "shell.execute_reply": "2025-09-30T14:11:15.658392Z",
     "shell.execute_reply.started": "2025-09-30T14:11:15.653689Z"
    },
    "papermill": {
     "duration": null,
     "end_time": null,
     "exception": null,
     "start_time": null,
     "status": "pending"
    },
    "tags": []
   },
   "outputs": [],
   "source": [
    "# | & ~\n",
    "# and or not\n",
    "# not True\n",
    "\n",
    "not 0 # True"
   ]
  },
  {
   "cell_type": "code",
   "execution_count": null,
   "id": "593a0d98",
   "metadata": {
    "execution": {
     "iopub.execute_input": "2025-09-30T14:14:53.242839Z",
     "iopub.status.busy": "2025-09-30T14:14:53.242587Z",
     "iopub.status.idle": "2025-09-30T14:14:53.266900Z",
     "shell.execute_reply": "2025-09-30T14:14:53.265978Z",
     "shell.execute_reply.started": "2025-09-30T14:14:53.242819Z"
    },
    "papermill": {
     "duration": null,
     "end_time": null,
     "exception": null,
     "start_time": null,
     "status": "pending"
    },
    "tags": []
   },
   "outputs": [],
   "source": [
    "n = 2\n",
    "m = 3\n",
    "print((n+m)**2==n**2+2*n*m+m**2)"
   ]
  },
  {
   "cell_type": "code",
   "execution_count": null,
   "id": "2dd6ca4e",
   "metadata": {
    "execution": {
     "iopub.execute_input": "2025-09-30T14:14:53.302413Z",
     "iopub.status.busy": "2025-09-30T14:14:53.302059Z",
     "iopub.status.idle": "2025-09-30T14:14:53.308046Z",
     "shell.execute_reply": "2025-09-30T14:14:53.307157Z",
     "shell.execute_reply.started": "2025-09-30T14:14:53.302390Z"
    },
    "papermill": {
     "duration": null,
     "end_time": null,
     "exception": null,
     "start_time": null,
     "status": "pending"
    },
    "tags": []
   },
   "outputs": [],
   "source": [
    "3 // 3 - 1 * 2"
   ]
  },
  {
   "cell_type": "code",
   "execution_count": null,
   "id": "9730bdc9",
   "metadata": {
    "execution": {
     "iopub.execute_input": "2025-09-30T14:15:33.276346Z",
     "iopub.status.busy": "2025-09-30T14:15:33.275509Z",
     "iopub.status.idle": "2025-09-30T14:15:33.279775Z",
     "shell.execute_reply": "2025-09-30T14:15:33.278849Z",
     "shell.execute_reply.started": "2025-09-30T14:15:33.276314Z"
    },
    "papermill": {
     "duration": null,
     "end_time": null,
     "exception": null,
     "start_time": null,
     "status": "pending"
    },
    "tags": []
   },
   "outputs": [],
   "source": [
    "# List"
   ]
  },
  {
   "cell_type": "code",
   "execution_count": null,
   "id": "20cb72b0",
   "metadata": {
    "execution": {
     "iopub.execute_input": "2025-09-30T14:18:51.553527Z",
     "iopub.status.busy": "2025-09-30T14:18:51.553227Z",
     "iopub.status.idle": "2025-09-30T14:18:51.560624Z",
     "shell.execute_reply": "2025-09-30T14:18:51.559537Z",
     "shell.execute_reply.started": "2025-09-30T14:18:51.553504Z"
    },
    "papermill": {
     "duration": null,
     "end_time": null,
     "exception": null,
     "start_time": null,
     "status": "pending"
    },
    "tags": []
   },
   "outputs": [],
   "source": [
    "thisList = [\"A\",\"B\",\"A\",\"C\"]\n",
    "len(thisList)\n",
    "# thisList[len(thisList)-1]\n",
    "thisList[-1]"
   ]
  },
  {
   "cell_type": "code",
   "execution_count": null,
   "id": "afa857d8",
   "metadata": {
    "execution": {
     "iopub.execute_input": "2025-09-30T14:20:14.030799Z",
     "iopub.status.busy": "2025-09-30T14:20:14.030588Z",
     "iopub.status.idle": "2025-09-30T14:20:14.043598Z",
     "shell.execute_reply": "2025-09-30T14:20:14.042557Z",
     "shell.execute_reply.started": "2025-09-30T14:20:14.030781Z"
    },
    "papermill": {
     "duration": null,
     "end_time": null,
     "exception": null,
     "start_time": null,
     "status": "pending"
    },
    "tags": []
   },
   "outputs": [],
   "source": [
    "#  0  1  2  3  4\n",
    "# -5 -4 -3 -2 -1"
   ]
  },
  {
   "cell_type": "code",
   "execution_count": null,
   "id": "0ff4d04c",
   "metadata": {
    "execution": {
     "iopub.execute_input": "2025-09-30T14:21:44.334197Z",
     "iopub.status.busy": "2025-09-30T14:21:44.333777Z",
     "iopub.status.idle": "2025-09-30T14:21:44.338873Z",
     "shell.execute_reply": "2025-09-30T14:21:44.337791Z",
     "shell.execute_reply.started": "2025-09-30T14:21:44.334169Z"
    },
    "papermill": {
     "duration": null,
     "end_time": null,
     "exception": null,
     "start_time": null,
     "status": "pending"
    },
    "tags": []
   },
   "outputs": [],
   "source": [
    "# Slicing ..."
   ]
  },
  {
   "cell_type": "code",
   "execution_count": null,
   "id": "60f87b82",
   "metadata": {
    "execution": {
     "iopub.execute_input": "2025-09-30T14:25:35.445045Z",
     "iopub.status.busy": "2025-09-30T14:25:35.444762Z",
     "iopub.status.idle": "2025-09-30T14:25:35.451049Z",
     "shell.execute_reply": "2025-09-30T14:25:35.450029Z",
     "shell.execute_reply.started": "2025-09-30T14:25:35.445021Z"
    },
    "papermill": {
     "duration": null,
     "end_time": null,
     "exception": null,
     "start_time": null,
     "status": "pending"
    },
    "tags": []
   },
   "outputs": [],
   "source": [
    "name = \"datamining\"\n",
    "'''\n",
    "name[start:end+1]\n",
    "output => name[start:end]\n",
    "'''\n",
    "name[1:4] # ata"
   ]
  },
  {
   "cell_type": "code",
   "execution_count": null,
   "id": "b359e8f7",
   "metadata": {
    "papermill": {
     "duration": null,
     "end_time": null,
     "exception": null,
     "start_time": null,
     "status": "pending"
    },
    "tags": []
   },
   "outputs": [],
   "source": [
    "#  0  1  2  3  4\n",
    "# -5 -4 -3 -2 -1"
   ]
  },
  {
   "cell_type": "code",
   "execution_count": null,
   "id": "8a905109",
   "metadata": {
    "execution": {
     "iopub.execute_input": "2025-09-30T14:28:50.882509Z",
     "iopub.status.busy": "2025-09-30T14:28:50.882152Z",
     "iopub.status.idle": "2025-09-30T14:28:50.887692Z",
     "shell.execute_reply": "2025-09-30T14:28:50.886498Z",
     "shell.execute_reply.started": "2025-09-30T14:28:50.882484Z"
    },
    "papermill": {
     "duration": null,
     "end_time": null,
     "exception": null,
     "start_time": null,
     "status": "pending"
    },
    "tags": []
   },
   "outputs": [],
   "source": [
    "print(name[-4:-2]) # output \n",
    "print(name[-2:-4]) # no output"
   ]
  },
  {
   "cell_type": "code",
   "execution_count": null,
   "id": "eca7d7e7",
   "metadata": {
    "execution": {
     "iopub.execute_input": "2025-09-30T14:29:19.917114Z",
     "iopub.status.busy": "2025-09-30T14:29:19.916805Z",
     "iopub.status.idle": "2025-09-30T14:29:19.923082Z",
     "shell.execute_reply": "2025-09-30T14:29:19.921957Z",
     "shell.execute_reply.started": "2025-09-30T14:29:19.917089Z"
    },
    "papermill": {
     "duration": null,
     "end_time": null,
     "exception": null,
     "start_time": null,
     "status": "pending"
    },
    "tags": []
   },
   "outputs": [],
   "source": [
    "name"
   ]
  },
  {
   "cell_type": "code",
   "execution_count": null,
   "id": "446358c2",
   "metadata": {
    "execution": {
     "iopub.execute_input": "2025-09-30T14:30:33.771561Z",
     "iopub.status.busy": "2025-09-30T14:30:33.771220Z",
     "iopub.status.idle": "2025-09-30T14:30:33.788567Z",
     "shell.execute_reply": "2025-09-30T14:30:33.787404Z",
     "shell.execute_reply.started": "2025-09-30T14:30:33.771531Z"
    },
    "papermill": {
     "duration": null,
     "end_time": null,
     "exception": null,
     "start_time": null,
     "status": "pending"
    },
    "tags": []
   },
   "outputs": [],
   "source": [
    "name[::-1] # reverse\n",
    "\n",
    "# ana\n",
    "\n",
    "# name[::] == name[::-1]"
   ]
  },
  {
   "cell_type": "code",
   "execution_count": null,
   "id": "00942e55",
   "metadata": {
    "execution": {
     "iopub.execute_input": "2025-09-30T14:32:32.651615Z",
     "iopub.status.busy": "2025-09-30T14:32:32.651315Z",
     "iopub.status.idle": "2025-09-30T14:32:32.662082Z",
     "shell.execute_reply": "2025-09-30T14:32:32.660716Z",
     "shell.execute_reply.started": "2025-09-30T14:32:32.651592Z"
    },
    "papermill": {
     "duration": null,
     "end_time": null,
     "exception": null,
     "start_time": null,
     "status": "pending"
    },
    "tags": []
   },
   "outputs": [],
   "source": [
    "# list vs string ...\n",
    "\n",
    "name = \"data\" # immutable\n",
    "name[1] = 'u'"
   ]
  },
  {
   "cell_type": "code",
   "execution_count": null,
   "id": "777bdd19",
   "metadata": {
    "execution": {
     "iopub.execute_input": "2025-09-30T14:35:41.537970Z",
     "iopub.status.busy": "2025-09-30T14:35:41.537720Z",
     "iopub.status.idle": "2025-09-30T14:35:41.560085Z",
     "shell.execute_reply": "2025-09-30T14:35:41.559112Z",
     "shell.execute_reply.started": "2025-09-30T14:35:41.537945Z"
    },
    "papermill": {
     "duration": null,
     "end_time": null,
     "exception": null,
     "start_time": null,
     "status": "pending"
    },
    "tags": []
   },
   "outputs": [],
   "source": [
    "name = ['d','a','t','a']\n",
    "name[1] = 'u'\n",
    "name[2:4] = ['o','o']\n",
    "name\n",
    "name[2:] = ['p','q']\n",
    "name"
   ]
  },
  {
   "cell_type": "code",
   "execution_count": null,
   "id": "4807ad90",
   "metadata": {
    "execution": {
     "iopub.execute_input": "2025-09-30T14:41:28.454927Z",
     "iopub.status.busy": "2025-09-30T14:41:28.454608Z",
     "iopub.status.idle": "2025-09-30T14:41:28.461462Z",
     "shell.execute_reply": "2025-09-30T14:41:28.460642Z",
     "shell.execute_reply.started": "2025-09-30T14:41:28.454904Z"
    },
    "papermill": {
     "duration": null,
     "end_time": null,
     "exception": null,
     "start_time": null,
     "status": "pending"
    },
    "tags": []
   },
   "outputs": [],
   "source": [
    "# list operations\n",
    "name = ['d','a','t','a']\n",
    "\n",
    "name.append('m')\n",
    "name\n",
    "name.insert(1,'q')\n",
    "name\n",
    "\n",
    "name.remove('a')\n",
    "name\n",
    "name.pop(3)\n",
    "name"
   ]
  },
  {
   "cell_type": "code",
   "execution_count": null,
   "id": "f8257b33",
   "metadata": {
    "execution": {
     "iopub.execute_input": "2025-09-30T14:43:36.350060Z",
     "iopub.status.busy": "2025-09-30T14:43:36.349702Z",
     "iopub.status.idle": "2025-09-30T14:43:36.357255Z",
     "shell.execute_reply": "2025-09-30T14:43:36.356070Z",
     "shell.execute_reply.started": "2025-09-30T14:43:36.350034Z"
    },
    "papermill": {
     "duration": null,
     "end_time": null,
     "exception": null,
     "start_time": null,
     "status": "pending"
    },
    "tags": []
   },
   "outputs": [],
   "source": [
    "# numpy vs normal list\n",
    "\n",
    "a = [1,2,3]\n",
    "b = [4,5,6]\n",
    "c = a+b\n",
    "d = c*2\n",
    "d"
   ]
  },
  {
   "cell_type": "code",
   "execution_count": null,
   "id": "af0b584d",
   "metadata": {
    "execution": {
     "iopub.execute_input": "2025-09-30T14:45:23.177657Z",
     "iopub.status.busy": "2025-09-30T14:45:23.177317Z",
     "iopub.status.idle": "2025-09-30T14:45:23.183639Z",
     "shell.execute_reply": "2025-09-30T14:45:23.182432Z",
     "shell.execute_reply.started": "2025-09-30T14:45:23.177632Z"
    },
    "papermill": {
     "duration": null,
     "end_time": null,
     "exception": null,
     "start_time": null,
     "status": "pending"
    },
    "tags": []
   },
   "outputs": [],
   "source": [
    "a = 2\n",
    "b = 3\n",
    "\n",
    "if a>b:\n",
    "    print(\"A is greater\")\n",
    "elif a<b:\n",
    "    print(\"B is greater\")\n",
    "else:\n",
    "    print(\"A and B are equal\")"
   ]
  },
  {
   "cell_type": "code",
   "execution_count": null,
   "id": "2a939587",
   "metadata": {
    "execution": {
     "iopub.execute_input": "2025-09-30T14:46:42.061322Z",
     "iopub.status.busy": "2025-09-30T14:46:42.060747Z",
     "iopub.status.idle": "2025-09-30T14:46:42.065858Z",
     "shell.execute_reply": "2025-09-30T14:46:42.064916Z",
     "shell.execute_reply.started": "2025-09-30T14:46:42.061295Z"
    },
    "papermill": {
     "duration": null,
     "end_time": null,
     "exception": null,
     "start_time": null,
     "status": "pending"
    },
    "tags": []
   },
   "outputs": [],
   "source": [
    "a = 2\n",
    "b = 3\n",
    "\n",
    "print(\"A\") if a>b else print(\"B\")"
   ]
  },
  {
   "cell_type": "code",
   "execution_count": null,
   "id": "17f8bbeb",
   "metadata": {
    "execution": {
     "iopub.execute_input": "2025-09-30T14:48:23.449837Z",
     "iopub.status.busy": "2025-09-30T14:48:23.449537Z",
     "iopub.status.idle": "2025-09-30T14:48:23.455165Z",
     "shell.execute_reply": "2025-09-30T14:48:23.453983Z",
     "shell.execute_reply.started": "2025-09-30T14:48:23.449814Z"
    },
    "papermill": {
     "duration": null,
     "end_time": null,
     "exception": null,
     "start_time": null,
     "status": "pending"
    },
    "tags": []
   },
   "outputs": [],
   "source": [
    "# swap\n",
    "a = 2\n",
    "b = 3\n",
    "\n",
    "a,b = b,a # swap\n",
    "\n",
    "print(a)\n",
    "print(b)"
   ]
  },
  {
   "cell_type": "code",
   "execution_count": null,
   "id": "76e7251b",
   "metadata": {
    "execution": {
     "iopub.execute_input": "2025-09-30T14:57:47.721428Z",
     "iopub.status.busy": "2025-09-30T14:57:47.721006Z",
     "iopub.status.idle": "2025-09-30T14:57:47.727868Z",
     "shell.execute_reply": "2025-09-30T14:57:47.726934Z",
     "shell.execute_reply.started": "2025-09-30T14:57:47.721405Z"
    },
    "papermill": {
     "duration": null,
     "end_time": null,
     "exception": null,
     "start_time": null,
     "status": "pending"
    },
    "tags": []
   },
   "outputs": [],
   "source": [
    "myList = [1,3,2]\n",
    "# myList.sort()\n",
    "mySortedList = sorted(myList,reverse=True)\n",
    "# del mySortedList\n",
    "mySortedList\n",
    "# myList = sorted(myList)"
   ]
  },
  {
   "cell_type": "code",
   "execution_count": null,
   "id": "5de7e5c9",
   "metadata": {
    "execution": {
     "iopub.execute_input": "2025-09-30T15:04:36.414998Z",
     "iopub.status.busy": "2025-09-30T15:04:36.414710Z",
     "iopub.status.idle": "2025-09-30T15:04:36.420495Z",
     "shell.execute_reply": "2025-09-30T15:04:36.419458Z",
     "shell.execute_reply.started": "2025-09-30T15:04:36.414976Z"
    },
    "papermill": {
     "duration": null,
     "end_time": null,
     "exception": null,
     "start_time": null,
     "status": "pending"
    },
    "tags": []
   },
   "outputs": [],
   "source": [
    "l = ['a','b','c','d','e']\n",
    "\n",
    "# for i in l:\n",
    "#     print(i,end=' ')\n",
    "\n",
    "l[1]\n",
    "\n",
    "# range(start=0,end+1,step=1)\n",
    "\n",
    "for i in range(len(l)):\n",
    "    print(l[i],end=' ')"
   ]
  },
  {
   "cell_type": "code",
   "execution_count": null,
   "id": "0013e299",
   "metadata": {
    "execution": {
     "iopub.execute_input": "2025-09-30T15:08:18.997829Z",
     "iopub.status.busy": "2025-09-30T15:08:18.997547Z",
     "iopub.status.idle": "2025-09-30T15:08:19.005485Z",
     "shell.execute_reply": "2025-09-30T15:08:19.003603Z",
     "shell.execute_reply.started": "2025-09-30T15:08:18.997808Z"
    },
    "papermill": {
     "duration": null,
     "end_time": null,
     "exception": null,
     "start_time": null,
     "status": "pending"
    },
    "tags": []
   },
   "outputs": [],
   "source": [
    "l = [1,2,3,4,5,6,7]\n",
    "\n",
    "ls = [str(i) for i in l]\n",
    "\n",
    "temp_str = ' '.join(ls) # ...\n",
    "print(temp_str)"
   ]
  },
  {
   "cell_type": "code",
   "execution_count": null,
   "id": "c9326c06",
   "metadata": {
    "execution": {
     "iopub.execute_input": "2025-09-30T15:10:46.678274Z",
     "iopub.status.busy": "2025-09-30T15:10:46.677939Z",
     "iopub.status.idle": "2025-09-30T15:10:46.683701Z",
     "shell.execute_reply": "2025-09-30T15:10:46.682585Z",
     "shell.execute_reply.started": "2025-09-30T15:10:46.678249Z"
    },
    "papermill": {
     "duration": null,
     "end_time": null,
     "exception": null,
     "start_time": null,
     "status": "pending"
    },
    "tags": []
   },
   "outputs": [],
   "source": [
    "p = ['a','b','c']\n",
    "q = ['l','m','n']\n",
    "\n",
    "for i,j in zip(p,q):\n",
    "    print(i,j,end=' ')\n",
    "    \n",
    "# a l b m c n"
   ]
  },
  {
   "cell_type": "code",
   "execution_count": null,
   "id": "b94a8265",
   "metadata": {
    "execution": {
     "iopub.execute_input": "2025-09-30T15:11:57.981259Z",
     "iopub.status.busy": "2025-09-30T15:11:57.980316Z",
     "iopub.status.idle": "2025-09-30T15:11:57.986587Z",
     "shell.execute_reply": "2025-09-30T15:11:57.985216Z",
     "shell.execute_reply.started": "2025-09-30T15:11:57.981230Z"
    },
    "papermill": {
     "duration": null,
     "end_time": null,
     "exception": null,
     "start_time": null,
     "status": "pending"
    },
    "tags": []
   },
   "outputs": [],
   "source": [
    "i=0\n",
    "while i<5:\n",
    "    print(i)\n",
    "    i+=1"
   ]
  },
  {
   "cell_type": "code",
   "execution_count": null,
   "id": "22ccb36a",
   "metadata": {
    "execution": {
     "iopub.execute_input": "2025-09-30T15:13:03.364333Z",
     "iopub.status.busy": "2025-09-30T15:13:03.364030Z",
     "iopub.status.idle": "2025-09-30T15:13:03.383301Z",
     "shell.execute_reply": "2025-09-30T15:13:03.382346Z",
     "shell.execute_reply.started": "2025-09-30T15:13:03.364312Z"
    },
    "papermill": {
     "duration": null,
     "end_time": null,
     "exception": null,
     "start_time": null,
     "status": "pending"
    },
    "tags": []
   },
   "outputs": [],
   "source": [
    "pi = 3.14152\n",
    "round(pi,2)"
   ]
  },
  {
   "cell_type": "code",
   "execution_count": null,
   "id": "64cc1fe1",
   "metadata": {
    "execution": {
     "iopub.execute_input": "2025-09-30T15:19:05.776149Z",
     "iopub.status.busy": "2025-09-30T15:19:05.775205Z",
     "iopub.status.idle": "2025-09-30T15:19:05.780027Z",
     "shell.execute_reply": "2025-09-30T15:19:05.779198Z",
     "shell.execute_reply.started": "2025-09-30T15:19:05.776097Z"
    },
    "papermill": {
     "duration": null,
     "end_time": null,
     "exception": null,
     "start_time": null,
     "status": "pending"
    },
    "tags": []
   },
   "outputs": [],
   "source": [
    "# !pip install pandas --quiet"
   ]
  },
  {
   "cell_type": "code",
   "execution_count": null,
   "id": "850d16ef",
   "metadata": {
    "execution": {
     "iopub.execute_input": "2025-09-30T15:21:36.707462Z",
     "iopub.status.busy": "2025-09-30T15:21:36.707187Z",
     "iopub.status.idle": "2025-09-30T15:21:36.713305Z",
     "shell.execute_reply": "2025-09-30T15:21:36.712437Z",
     "shell.execute_reply.started": "2025-09-30T15:21:36.707441Z"
    },
    "papermill": {
     "duration": null,
     "end_time": null,
     "exception": null,
     "start_time": null,
     "status": "pending"
    },
    "tags": []
   },
   "outputs": [],
   "source": [
    "def myFun(n=1,m=1):\n",
    "    return n*m\n",
    "\n",
    "myFun(5,4)"
   ]
  },
  {
   "cell_type": "code",
   "execution_count": null,
   "id": "381923c5",
   "metadata": {
    "execution": {
     "iopub.execute_input": "2025-09-30T15:24:02.537521Z",
     "iopub.status.busy": "2025-09-30T15:24:02.537161Z",
     "iopub.status.idle": "2025-09-30T15:24:02.543902Z",
     "shell.execute_reply": "2025-09-30T15:24:02.543176Z",
     "shell.execute_reply.started": "2025-09-30T15:24:02.537496Z"
    },
    "papermill": {
     "duration": null,
     "end_time": null,
     "exception": null,
     "start_time": null,
     "status": "pending"
    },
    "tags": []
   },
   "outputs": [],
   "source": [
    "# 5! = 1*2*3*4*5\n",
    "\n",
    "def facto(n):\n",
    "    facto=1\n",
    "    for i in range(1,n+1):\n",
    "        facto*=i\n",
    "    return facto\n",
    "\n",
    "facto(5)\n",
    "\n",
    "# 1,2,3,4,5"
   ]
  },
  {
   "cell_type": "code",
   "execution_count": null,
   "id": "59feb1ad",
   "metadata": {
    "execution": {
     "iopub.execute_input": "2025-09-30T15:24:16.553234Z",
     "iopub.status.busy": "2025-09-30T15:24:16.552926Z",
     "iopub.status.idle": "2025-09-30T15:24:16.557828Z",
     "shell.execute_reply": "2025-09-30T15:24:16.556835Z",
     "shell.execute_reply.started": "2025-09-30T15:24:16.553209Z"
    },
    "papermill": {
     "duration": null,
     "end_time": null,
     "exception": null,
     "start_time": null,
     "status": "pending"
    },
    "tags": []
   },
   "outputs": [],
   "source": [
    "# distionary / map ..."
   ]
  },
  {
   "cell_type": "code",
   "execution_count": null,
   "id": "033e50d4",
   "metadata": {
    "execution": {
     "iopub.execute_input": "2025-09-30T15:25:32.198458Z",
     "iopub.status.busy": "2025-09-30T15:25:32.198113Z",
     "iopub.status.idle": "2025-09-30T15:25:32.203075Z",
     "shell.execute_reply": "2025-09-30T15:25:32.202149Z",
     "shell.execute_reply.started": "2025-09-30T15:25:32.198425Z"
    },
    "papermill": {
     "duration": null,
     "end_time": null,
     "exception": null,
     "start_time": null,
     "status": "pending"
    },
    "tags": []
   },
   "outputs": [],
   "source": [
    "# {key:value}\n",
    "\n",
    "m = {\n",
    "    'Ana': 20,\n",
    "    'Maria': 40,\n",
    "    'Abc': '100'\n",
    "}"
   ]
  },
  {
   "cell_type": "code",
   "execution_count": null,
   "id": "8c2fa3d7",
   "metadata": {
    "execution": {
     "iopub.execute_input": "2025-09-30T15:26:20.705444Z",
     "iopub.status.busy": "2025-09-30T15:26:20.705095Z",
     "iopub.status.idle": "2025-09-30T15:26:20.710684Z",
     "shell.execute_reply": "2025-09-30T15:26:20.709675Z",
     "shell.execute_reply.started": "2025-09-30T15:26:20.705419Z"
    },
    "papermill": {
     "duration": null,
     "end_time": null,
     "exception": null,
     "start_time": null,
     "status": "pending"
    },
    "tags": []
   },
   "outputs": [],
   "source": [
    "print(m.keys())\n",
    "print(m.values())"
   ]
  },
  {
   "cell_type": "code",
   "execution_count": null,
   "id": "9fe286c3",
   "metadata": {
    "execution": {
     "iopub.execute_input": "2025-09-30T15:26:51.679006Z",
     "iopub.status.busy": "2025-09-30T15:26:51.678727Z",
     "iopub.status.idle": "2025-09-30T15:26:51.683498Z",
     "shell.execute_reply": "2025-09-30T15:26:51.682532Z",
     "shell.execute_reply.started": "2025-09-30T15:26:51.678983Z"
    },
    "papermill": {
     "duration": null,
     "end_time": null,
     "exception": null,
     "start_time": null,
     "status": "pending"
    },
    "tags": []
   },
   "outputs": [],
   "source": [
    "m['Rahim'] = -2"
   ]
  },
  {
   "cell_type": "code",
   "execution_count": null,
   "id": "345202d2",
   "metadata": {
    "execution": {
     "iopub.execute_input": "2025-09-30T15:26:58.999954Z",
     "iopub.status.busy": "2025-09-30T15:26:58.999682Z",
     "iopub.status.idle": "2025-09-30T15:26:59.008429Z",
     "shell.execute_reply": "2025-09-30T15:26:59.007164Z",
     "shell.execute_reply.started": "2025-09-30T15:26:58.999934Z"
    },
    "papermill": {
     "duration": null,
     "end_time": null,
     "exception": null,
     "start_time": null,
     "status": "pending"
    },
    "tags": []
   },
   "outputs": [],
   "source": [
    "m"
   ]
  },
  {
   "cell_type": "code",
   "execution_count": null,
   "id": "9c362d01",
   "metadata": {
    "execution": {
     "iopub.execute_input": "2025-09-30T15:28:00.294262Z",
     "iopub.status.busy": "2025-09-30T15:28:00.293931Z",
     "iopub.status.idle": "2025-09-30T15:28:00.297923Z",
     "shell.execute_reply": "2025-09-30T15:28:00.297093Z",
     "shell.execute_reply.started": "2025-09-30T15:28:00.294238Z"
    },
    "papermill": {
     "duration": null,
     "end_time": null,
     "exception": null,
     "start_time": null,
     "status": "pending"
    },
    "tags": []
   },
   "outputs": [],
   "source": [
    "# map\n",
    "\n",
    "# l = [1,2,3,1,5,6,3,1]\n",
    "\n",
    "# 1:3\n",
    "# 2:1\n",
    "# 3:2\n",
    "# 5:1"
   ]
  },
  {
   "cell_type": "code",
   "execution_count": null,
   "id": "479db7c6",
   "metadata": {
    "execution": {
     "iopub.execute_input": "2025-09-30T15:28:19.747695Z",
     "iopub.status.busy": "2025-09-30T15:28:19.746857Z",
     "iopub.status.idle": "2025-09-30T15:28:19.752484Z",
     "shell.execute_reply": "2025-09-30T15:28:19.751584Z",
     "shell.execute_reply.started": "2025-09-30T15:28:19.747664Z"
    },
    "papermill": {
     "duration": null,
     "end_time": null,
     "exception": null,
     "start_time": null,
     "status": "pending"
    },
    "tags": []
   },
   "outputs": [],
   "source": [
    "1"
   ]
  }
 ],
 "metadata": {
  "kaggle": {
   "accelerator": "none",
   "dataSources": [],
   "dockerImageVersionId": 31089,
   "isGpuEnabled": false,
   "isInternetEnabled": false,
   "language": "python",
   "sourceType": "notebook"
  },
  "kernelspec": {
   "display_name": "Python 3",
   "language": "python",
   "name": "python3"
  },
  "language_info": {
   "codemirror_mode": {
    "name": "ipython",
    "version": 3
   },
   "file_extension": ".py",
   "mimetype": "text/x-python",
   "name": "python",
   "nbconvert_exporter": "python",
   "pygments_lexer": "ipython3",
   "version": "3.11.13"
  },
  "papermill": {
   "default_parameters": {},
   "duration": 6.421094,
   "end_time": "2025-09-30T15:29:00.834212",
   "environment_variables": {},
   "exception": true,
   "input_path": "__notebook__.ipynb",
   "output_path": "__notebook__.ipynb",
   "parameters": {},
   "start_time": "2025-09-30T15:28:54.413118",
   "version": "2.6.0"
  }
 },
 "nbformat": 4,
 "nbformat_minor": 5
}
