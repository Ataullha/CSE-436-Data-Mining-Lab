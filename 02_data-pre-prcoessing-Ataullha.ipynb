{
 "cells": [
  {
   "cell_type": "code",
   "execution_count": 1,
   "id": "067eed68",
   "metadata": {
    "_cell_guid": "b1076dfc-b9ad-4769-8c92-a6c4dae69d19",
    "_uuid": "8f2839f25d086af736a60e9eeb907d3b93b6e0e5",
    "execution": {
     "iopub.execute_input": "2025-10-04T09:48:17.071544Z",
     "iopub.status.busy": "2025-10-04T09:48:17.071204Z",
     "iopub.status.idle": "2025-10-04T09:48:23.077641Z",
     "shell.execute_reply": "2025-10-04T09:48:23.075730Z"
    },
    "papermill": {
     "duration": 6.019046,
     "end_time": "2025-10-04T09:48:23.080325",
     "exception": false,
     "start_time": "2025-10-04T09:48:17.061279",
     "status": "completed"
    },
    "tags": []
   },
   "outputs": [],
   "source": [
    "!pip install pandas --q"
   ]
  },
  {
   "cell_type": "code",
   "execution_count": 2,
   "id": "d6218d8b",
   "metadata": {
    "execution": {
     "iopub.execute_input": "2025-10-04T09:48:23.095590Z",
     "iopub.status.busy": "2025-10-04T09:48:23.095223Z",
     "iopub.status.idle": "2025-10-04T09:48:25.377905Z",
     "shell.execute_reply": "2025-10-04T09:48:25.376253Z"
    },
    "papermill": {
     "duration": 2.292884,
     "end_time": "2025-10-04T09:48:25.380549",
     "exception": false,
     "start_time": "2025-10-04T09:48:23.087665",
     "status": "completed"
    },
    "tags": []
   },
   "outputs": [],
   "source": [
    "import pandas as pd"
   ]
  },
  {
   "cell_type": "code",
   "execution_count": 3,
   "id": "6991a70e",
   "metadata": {
    "execution": {
     "iopub.execute_input": "2025-10-04T09:48:25.395039Z",
     "iopub.status.busy": "2025-10-04T09:48:25.394453Z",
     "iopub.status.idle": "2025-10-04T09:48:25.635819Z",
     "shell.execute_reply": "2025-10-04T09:48:25.634685Z"
    },
    "papermill": {
     "duration": 0.250975,
     "end_time": "2025-10-04T09:48:25.638147",
     "exception": false,
     "start_time": "2025-10-04T09:48:25.387172",
     "status": "completed"
    },
    "tags": []
   },
   "outputs": [],
   "source": [
    "df = pd.read_csv(\"https://raw.githubusercontent.com/Ataullha/CSE-412_Machine-Learning-Lab/refs/heads/main/titanic_train.csv\")"
   ]
  },
  {
   "cell_type": "code",
   "execution_count": 4,
   "id": "c610304c",
   "metadata": {
    "execution": {
     "iopub.execute_input": "2025-10-04T09:48:25.653453Z",
     "iopub.status.busy": "2025-10-04T09:48:25.653159Z",
     "iopub.status.idle": "2025-10-04T09:48:25.657516Z",
     "shell.execute_reply": "2025-10-04T09:48:25.656658Z"
    },
    "papermill": {
     "duration": 0.013923,
     "end_time": "2025-10-04T09:48:25.659181",
     "exception": false,
     "start_time": "2025-10-04T09:48:25.645258",
     "status": "completed"
    },
    "tags": []
   },
   "outputs": [],
   "source": [
    "# df.head(2)\n",
    "# df.tail()\n",
    "# df.sample(5)"
   ]
  },
  {
   "cell_type": "code",
   "execution_count": 5,
   "id": "9c96bb98",
   "metadata": {
    "execution": {
     "iopub.execute_input": "2025-10-04T09:48:25.672972Z",
     "iopub.status.busy": "2025-10-04T09:48:25.672681Z",
     "iopub.status.idle": "2025-10-04T09:48:25.677304Z",
     "shell.execute_reply": "2025-10-04T09:48:25.676141Z"
    },
    "papermill": {
     "duration": 0.013592,
     "end_time": "2025-10-04T09:48:25.679242",
     "exception": false,
     "start_time": "2025-10-04T09:48:25.665650",
     "status": "completed"
    },
    "tags": []
   },
   "outputs": [],
   "source": [
    "# len(df.columns)\n",
    "# len(df)"
   ]
  },
  {
   "cell_type": "code",
   "execution_count": 6,
   "id": "72a85c54",
   "metadata": {
    "execution": {
     "iopub.execute_input": "2025-10-04T09:48:25.694105Z",
     "iopub.status.busy": "2025-10-04T09:48:25.693167Z",
     "iopub.status.idle": "2025-10-04T09:48:25.701508Z",
     "shell.execute_reply": "2025-10-04T09:48:25.700636Z"
    },
    "papermill": {
     "duration": 0.017709,
     "end_time": "2025-10-04T09:48:25.703398",
     "exception": false,
     "start_time": "2025-10-04T09:48:25.685689",
     "status": "completed"
    },
    "tags": []
   },
   "outputs": [
    {
     "data": {
      "text/plain": [
       "(850, 15)"
      ]
     },
     "execution_count": 6,
     "metadata": {},
     "output_type": "execute_result"
    }
   ],
   "source": [
    "df.shape # row, column"
   ]
  },
  {
   "cell_type": "code",
   "execution_count": 7,
   "id": "5cab4d59",
   "metadata": {
    "execution": {
     "iopub.execute_input": "2025-10-04T09:48:25.718339Z",
     "iopub.status.busy": "2025-10-04T09:48:25.718007Z",
     "iopub.status.idle": "2025-10-04T09:48:25.731744Z",
     "shell.execute_reply": "2025-10-04T09:48:25.730446Z"
    },
    "papermill": {
     "duration": 0.022803,
     "end_time": "2025-10-04T09:48:25.733491",
     "exception": false,
     "start_time": "2025-10-04T09:48:25.710688",
     "status": "completed"
    },
    "tags": []
   },
   "outputs": [
    {
     "data": {
      "text/plain": [
       "pandas.core.series.Series"
      ]
     },
     "execution_count": 7,
     "metadata": {},
     "output_type": "execute_result"
    }
   ],
   "source": [
    "type(df['age'])"
   ]
  },
  {
   "cell_type": "code",
   "execution_count": 8,
   "id": "dd020a02",
   "metadata": {
    "execution": {
     "iopub.execute_input": "2025-10-04T09:48:25.748731Z",
     "iopub.status.busy": "2025-10-04T09:48:25.748336Z",
     "iopub.status.idle": "2025-10-04T09:48:25.765270Z",
     "shell.execute_reply": "2025-10-04T09:48:25.764137Z"
    },
    "papermill": {
     "duration": 0.026841,
     "end_time": "2025-10-04T09:48:25.767154",
     "exception": false,
     "start_time": "2025-10-04T09:48:25.740313",
     "status": "completed"
    },
    "tags": []
   },
   "outputs": [
    {
     "data": {
      "text/plain": [
       "pandas.core.frame.DataFrame"
      ]
     },
     "execution_count": 8,
     "metadata": {},
     "output_type": "execute_result"
    }
   ],
   "source": [
    "type(df[['age']])"
   ]
  },
  {
   "cell_type": "code",
   "execution_count": 9,
   "id": "40284c93",
   "metadata": {
    "execution": {
     "iopub.execute_input": "2025-10-04T09:48:25.783047Z",
     "iopub.status.busy": "2025-10-04T09:48:25.782703Z",
     "iopub.status.idle": "2025-10-04T09:48:25.794445Z",
     "shell.execute_reply": "2025-10-04T09:48:25.793222Z"
    },
    "papermill": {
     "duration": 0.022066,
     "end_time": "2025-10-04T09:48:25.796391",
     "exception": false,
     "start_time": "2025-10-04T09:48:25.774325",
     "status": "completed"
    },
    "tags": []
   },
   "outputs": [
    {
     "name": "stderr",
     "output_type": "stream",
     "text": [
      "/usr/local/lib/python3.11/dist-packages/pandas/io/formats/format.py:1458: RuntimeWarning: invalid value encountered in greater\n",
      "  has_large_values = (abs_vals > 1e6).any()\n",
      "/usr/local/lib/python3.11/dist-packages/pandas/io/formats/format.py:1459: RuntimeWarning: invalid value encountered in less\n",
      "  has_small_values = ((abs_vals < 10 ** (-self.digits)) & (abs_vals > 0)).any()\n",
      "/usr/local/lib/python3.11/dist-packages/pandas/io/formats/format.py:1459: RuntimeWarning: invalid value encountered in greater\n",
      "  has_small_values = ((abs_vals < 10 ** (-self.digits)) & (abs_vals > 0)).any()\n"
     ]
    },
    {
     "data": {
      "text/plain": [
       "0       NaN\n",
       "1      38.0\n",
       "2      30.0\n",
       "3      54.0\n",
       "4      40.0\n",
       "       ... \n",
       "845    55.0\n",
       "846    58.0\n",
       "847    24.0\n",
       "848     3.0\n",
       "849    52.0\n",
       "Name: age, Length: 850, dtype: float64"
      ]
     },
     "execution_count": 9,
     "metadata": {},
     "output_type": "execute_result"
    }
   ],
   "source": [
    "df['age']"
   ]
  },
  {
   "cell_type": "code",
   "execution_count": 10,
   "id": "79ee268b",
   "metadata": {
    "execution": {
     "iopub.execute_input": "2025-10-04T09:48:25.811994Z",
     "iopub.status.busy": "2025-10-04T09:48:25.811696Z",
     "iopub.status.idle": "2025-10-04T09:48:25.819055Z",
     "shell.execute_reply": "2025-10-04T09:48:25.818014Z"
    },
    "papermill": {
     "duration": 0.016907,
     "end_time": "2025-10-04T09:48:25.820721",
     "exception": false,
     "start_time": "2025-10-04T09:48:25.803814",
     "status": "completed"
    },
    "tags": []
   },
   "outputs": [
    {
     "data": {
      "text/plain": [
       "174"
      ]
     },
     "execution_count": 10,
     "metadata": {},
     "output_type": "execute_result"
    }
   ],
   "source": [
    "df['age'].isnull().sum()"
   ]
  },
  {
   "cell_type": "code",
   "execution_count": 11,
   "id": "4f57777c",
   "metadata": {
    "execution": {
     "iopub.execute_input": "2025-10-04T09:48:25.837050Z",
     "iopub.status.busy": "2025-10-04T09:48:25.835763Z",
     "iopub.status.idle": "2025-10-04T09:48:25.850526Z",
     "shell.execute_reply": "2025-10-04T09:48:25.849412Z"
    },
    "papermill": {
     "duration": 0.024419,
     "end_time": "2025-10-04T09:48:25.852354",
     "exception": false,
     "start_time": "2025-10-04T09:48:25.827935",
     "status": "completed"
    },
    "tags": []
   },
   "outputs": [],
   "source": [
    "df['age'] = df['age'].fillna(df['age'].mean())\n",
    "\n",
    "df['age'] = df['age'].fillna(df['age'].median())\n",
    "df['age'] = df['age'].fillna(df['age'].mode())\n",
    "df['age'] = df['age'].fillna(df['age'].min())\n",
    "df['age'] = df['age'].fillna(df['age'].max())"
   ]
  },
  {
   "cell_type": "code",
   "execution_count": 12,
   "id": "c9d4db2c",
   "metadata": {
    "execution": {
     "iopub.execute_input": "2025-10-04T09:48:25.868124Z",
     "iopub.status.busy": "2025-10-04T09:48:25.867752Z",
     "iopub.status.idle": "2025-10-04T09:48:25.874606Z",
     "shell.execute_reply": "2025-10-04T09:48:25.873697Z"
    },
    "papermill": {
     "duration": 0.016939,
     "end_time": "2025-10-04T09:48:25.876322",
     "exception": false,
     "start_time": "2025-10-04T09:48:25.859383",
     "status": "completed"
    },
    "tags": []
   },
   "outputs": [
    {
     "data": {
      "text/plain": [
       "0"
      ]
     },
     "execution_count": 12,
     "metadata": {},
     "output_type": "execute_result"
    }
   ],
   "source": [
    "df['age'].isnull().sum()"
   ]
  },
  {
   "cell_type": "code",
   "execution_count": 13,
   "id": "169b95dc",
   "metadata": {
    "execution": {
     "iopub.execute_input": "2025-10-04T09:48:25.891347Z",
     "iopub.status.busy": "2025-10-04T09:48:25.891051Z",
     "iopub.status.idle": "2025-10-04T09:48:25.898355Z",
     "shell.execute_reply": "2025-10-04T09:48:25.897193Z"
    },
    "papermill": {
     "duration": 0.017078,
     "end_time": "2025-10-04T09:48:25.900306",
     "exception": false,
     "start_time": "2025-10-04T09:48:25.883228",
     "status": "completed"
    },
    "tags": []
   },
   "outputs": [
    {
     "data": {
      "text/plain": [
       "Index(['passenger_id', 'pclass', 'name', 'sex', 'age', 'sibsp', 'parch',\n",
       "       'ticket', 'fare', 'cabin', 'embarked', 'boat', 'body', 'home.dest',\n",
       "       'survived'],\n",
       "      dtype='object')"
      ]
     },
     "execution_count": 13,
     "metadata": {},
     "output_type": "execute_result"
    }
   ],
   "source": [
    "df.columns"
   ]
  },
  {
   "cell_type": "code",
   "execution_count": 14,
   "id": "d86d569c",
   "metadata": {
    "execution": {
     "iopub.execute_input": "2025-10-04T09:48:25.915437Z",
     "iopub.status.busy": "2025-10-04T09:48:25.915136Z",
     "iopub.status.idle": "2025-10-04T09:48:25.921445Z",
     "shell.execute_reply": "2025-10-04T09:48:25.920408Z"
    },
    "papermill": {
     "duration": 0.015815,
     "end_time": "2025-10-04T09:48:25.923072",
     "exception": false,
     "start_time": "2025-10-04T09:48:25.907257",
     "status": "completed"
    },
    "tags": []
   },
   "outputs": [],
   "source": [
    "# df = df.drop(\"name\",axis=1)\n",
    "\n",
    "df.drop(\"name\",axis=1,inplace=True)"
   ]
  },
  {
   "cell_type": "code",
   "execution_count": 15,
   "id": "f44f50e7",
   "metadata": {
    "execution": {
     "iopub.execute_input": "2025-10-04T09:48:25.938702Z",
     "iopub.status.busy": "2025-10-04T09:48:25.938325Z",
     "iopub.status.idle": "2025-10-04T09:48:25.945039Z",
     "shell.execute_reply": "2025-10-04T09:48:25.943936Z"
    },
    "papermill": {
     "duration": 0.016536,
     "end_time": "2025-10-04T09:48:25.946868",
     "exception": false,
     "start_time": "2025-10-04T09:48:25.930332",
     "status": "completed"
    },
    "tags": []
   },
   "outputs": [
    {
     "data": {
      "text/plain": [
       "14"
      ]
     },
     "execution_count": 15,
     "metadata": {},
     "output_type": "execute_result"
    }
   ],
   "source": [
    "len(df.columns)"
   ]
  },
  {
   "cell_type": "code",
   "execution_count": 16,
   "id": "c58dcd49",
   "metadata": {
    "execution": {
     "iopub.execute_input": "2025-10-04T09:48:25.963152Z",
     "iopub.status.busy": "2025-10-04T09:48:25.962823Z",
     "iopub.status.idle": "2025-10-04T09:48:26.023196Z",
     "shell.execute_reply": "2025-10-04T09:48:26.021850Z"
    },
    "papermill": {
     "duration": 0.071191,
     "end_time": "2025-10-04T09:48:26.025287",
     "exception": false,
     "start_time": "2025-10-04T09:48:25.954096",
     "status": "completed"
    },
    "tags": []
   },
   "outputs": [
    {
     "data": {
      "text/html": [
       "<div>\n",
       "<style scoped>\n",
       "    .dataframe tbody tr th:only-of-type {\n",
       "        vertical-align: middle;\n",
       "    }\n",
       "\n",
       "    .dataframe tbody tr th {\n",
       "        vertical-align: top;\n",
       "    }\n",
       "\n",
       "    .dataframe thead th {\n",
       "        text-align: right;\n",
       "    }\n",
       "</style>\n",
       "<table border=\"1\" class=\"dataframe\">\n",
       "  <thead>\n",
       "    <tr style=\"text-align: right;\">\n",
       "      <th></th>\n",
       "      <th>passenger_id</th>\n",
       "      <th>pclass</th>\n",
       "      <th>age</th>\n",
       "      <th>sibsp</th>\n",
       "      <th>parch</th>\n",
       "      <th>fare</th>\n",
       "      <th>body</th>\n",
       "      <th>survived</th>\n",
       "    </tr>\n",
       "  </thead>\n",
       "  <tbody>\n",
       "    <tr>\n",
       "      <th>count</th>\n",
       "      <td>850.000000</td>\n",
       "      <td>850.00000</td>\n",
       "      <td>850.000000</td>\n",
       "      <td>850.000000</td>\n",
       "      <td>850.000000</td>\n",
       "      <td>849.000000</td>\n",
       "      <td>73.000000</td>\n",
       "      <td>850.000000</td>\n",
       "    </tr>\n",
       "    <tr>\n",
       "      <th>mean</th>\n",
       "      <td>662.816471</td>\n",
       "      <td>2.32000</td>\n",
       "      <td>29.519847</td>\n",
       "      <td>0.522353</td>\n",
       "      <td>0.382353</td>\n",
       "      <td>34.012701</td>\n",
       "      <td>165.821918</td>\n",
       "      <td>0.368235</td>\n",
       "    </tr>\n",
       "    <tr>\n",
       "      <th>std</th>\n",
       "      <td>380.751936</td>\n",
       "      <td>0.83853</td>\n",
       "      <td>12.984533</td>\n",
       "      <td>1.112132</td>\n",
       "      <td>0.879511</td>\n",
       "      <td>53.705779</td>\n",
       "      <td>99.068487</td>\n",
       "      <td>0.482610</td>\n",
       "    </tr>\n",
       "    <tr>\n",
       "      <th>min</th>\n",
       "      <td>1.000000</td>\n",
       "      <td>1.00000</td>\n",
       "      <td>0.166700</td>\n",
       "      <td>0.000000</td>\n",
       "      <td>0.000000</td>\n",
       "      <td>0.000000</td>\n",
       "      <td>4.000000</td>\n",
       "      <td>0.000000</td>\n",
       "    </tr>\n",
       "    <tr>\n",
       "      <th>25%</th>\n",
       "      <td>332.250000</td>\n",
       "      <td>2.00000</td>\n",
       "      <td>22.000000</td>\n",
       "      <td>0.000000</td>\n",
       "      <td>0.000000</td>\n",
       "      <td>7.895800</td>\n",
       "      <td>75.000000</td>\n",
       "      <td>0.000000</td>\n",
       "    </tr>\n",
       "    <tr>\n",
       "      <th>50%</th>\n",
       "      <td>676.500000</td>\n",
       "      <td>3.00000</td>\n",
       "      <td>29.519847</td>\n",
       "      <td>0.000000</td>\n",
       "      <td>0.000000</td>\n",
       "      <td>14.108300</td>\n",
       "      <td>166.000000</td>\n",
       "      <td>0.000000</td>\n",
       "    </tr>\n",
       "    <tr>\n",
       "      <th>75%</th>\n",
       "      <td>992.250000</td>\n",
       "      <td>3.00000</td>\n",
       "      <td>34.875000</td>\n",
       "      <td>1.000000</td>\n",
       "      <td>0.000000</td>\n",
       "      <td>31.000000</td>\n",
       "      <td>260.000000</td>\n",
       "      <td>1.000000</td>\n",
       "    </tr>\n",
       "    <tr>\n",
       "      <th>max</th>\n",
       "      <td>1307.000000</td>\n",
       "      <td>3.00000</td>\n",
       "      <td>80.000000</td>\n",
       "      <td>8.000000</td>\n",
       "      <td>9.000000</td>\n",
       "      <td>512.329200</td>\n",
       "      <td>328.000000</td>\n",
       "      <td>1.000000</td>\n",
       "    </tr>\n",
       "  </tbody>\n",
       "</table>\n",
       "</div>"
      ],
      "text/plain": [
       "       passenger_id     pclass         age       sibsp       parch  \\\n",
       "count    850.000000  850.00000  850.000000  850.000000  850.000000   \n",
       "mean     662.816471    2.32000   29.519847    0.522353    0.382353   \n",
       "std      380.751936    0.83853   12.984533    1.112132    0.879511   \n",
       "min        1.000000    1.00000    0.166700    0.000000    0.000000   \n",
       "25%      332.250000    2.00000   22.000000    0.000000    0.000000   \n",
       "50%      676.500000    3.00000   29.519847    0.000000    0.000000   \n",
       "75%      992.250000    3.00000   34.875000    1.000000    0.000000   \n",
       "max     1307.000000    3.00000   80.000000    8.000000    9.000000   \n",
       "\n",
       "             fare        body    survived  \n",
       "count  849.000000   73.000000  850.000000  \n",
       "mean    34.012701  165.821918    0.368235  \n",
       "std     53.705779   99.068487    0.482610  \n",
       "min      0.000000    4.000000    0.000000  \n",
       "25%      7.895800   75.000000    0.000000  \n",
       "50%     14.108300  166.000000    0.000000  \n",
       "75%     31.000000  260.000000    1.000000  \n",
       "max    512.329200  328.000000    1.000000  "
      ]
     },
     "execution_count": 16,
     "metadata": {},
     "output_type": "execute_result"
    }
   ],
   "source": [
    "df.describe()"
   ]
  },
  {
   "cell_type": "code",
   "execution_count": 17,
   "id": "f75bf9fe",
   "metadata": {
    "execution": {
     "iopub.execute_input": "2025-10-04T09:48:26.042324Z",
     "iopub.status.busy": "2025-10-04T09:48:26.042000Z",
     "iopub.status.idle": "2025-10-04T09:48:26.064794Z",
     "shell.execute_reply": "2025-10-04T09:48:26.063612Z"
    },
    "papermill": {
     "duration": 0.033079,
     "end_time": "2025-10-04T09:48:26.066673",
     "exception": false,
     "start_time": "2025-10-04T09:48:26.033594",
     "status": "completed"
    },
    "tags": []
   },
   "outputs": [
    {
     "name": "stdout",
     "output_type": "stream",
     "text": [
      "<class 'pandas.core.frame.DataFrame'>\n",
      "RangeIndex: 850 entries, 0 to 849\n",
      "Data columns (total 14 columns):\n",
      " #   Column        Non-Null Count  Dtype  \n",
      "---  ------        --------------  -----  \n",
      " 0   passenger_id  850 non-null    int64  \n",
      " 1   pclass        850 non-null    int64  \n",
      " 2   sex           850 non-null    object \n",
      " 3   age           850 non-null    float64\n",
      " 4   sibsp         850 non-null    int64  \n",
      " 5   parch         850 non-null    int64  \n",
      " 6   ticket        850 non-null    object \n",
      " 7   fare          849 non-null    float64\n",
      " 8   cabin         191 non-null    object \n",
      " 9   embarked      849 non-null    object \n",
      " 10  boat          308 non-null    object \n",
      " 11  body          73 non-null     float64\n",
      " 12  home.dest     464 non-null    object \n",
      " 13  survived      850 non-null    int64  \n",
      "dtypes: float64(3), int64(5), object(6)\n",
      "memory usage: 93.1+ KB\n"
     ]
    }
   ],
   "source": [
    "df.info()"
   ]
  },
  {
   "cell_type": "code",
   "execution_count": 18,
   "id": "00f6cd97",
   "metadata": {
    "execution": {
     "iopub.execute_input": "2025-10-04T09:48:26.083329Z",
     "iopub.status.busy": "2025-10-04T09:48:26.082963Z",
     "iopub.status.idle": "2025-10-04T09:48:26.089850Z",
     "shell.execute_reply": "2025-10-04T09:48:26.088626Z"
    },
    "papermill": {
     "duration": 0.017341,
     "end_time": "2025-10-04T09:48:26.091538",
     "exception": false,
     "start_time": "2025-10-04T09:48:26.074197",
     "status": "completed"
    },
    "tags": []
   },
   "outputs": [],
   "source": [
    "df['age'] = (df['age'] - df['age'].min())/(df['age'].max()-df['age'].min())"
   ]
  },
  {
   "cell_type": "code",
   "execution_count": 19,
   "id": "4145eb7d",
   "metadata": {
    "execution": {
     "iopub.execute_input": "2025-10-04T09:48:26.109097Z",
     "iopub.status.busy": "2025-10-04T09:48:26.108311Z",
     "iopub.status.idle": "2025-10-04T09:48:26.115280Z",
     "shell.execute_reply": "2025-10-04T09:48:26.114299Z"
    },
    "papermill": {
     "duration": 0.017907,
     "end_time": "2025-10-04T09:48:26.116874",
     "exception": false,
     "start_time": "2025-10-04T09:48:26.098967",
     "status": "completed"
    },
    "tags": []
   },
   "outputs": [
    {
     "data": {
      "text/plain": [
       "1"
      ]
     },
     "execution_count": 19,
     "metadata": {},
     "output_type": "execute_result"
    }
   ],
   "source": [
    "sum(df['age']>=1)"
   ]
  },
  {
   "cell_type": "code",
   "execution_count": 20,
   "id": "f4618e36",
   "metadata": {
    "execution": {
     "iopub.execute_input": "2025-10-04T09:48:26.133089Z",
     "iopub.status.busy": "2025-10-04T09:48:26.132695Z",
     "iopub.status.idle": "2025-10-04T09:48:26.141526Z",
     "shell.execute_reply": "2025-10-04T09:48:26.140607Z"
    },
    "papermill": {
     "duration": 0.019095,
     "end_time": "2025-10-04T09:48:26.143409",
     "exception": false,
     "start_time": "2025-10-04T09:48:26.124314",
     "status": "completed"
    },
    "tags": []
   },
   "outputs": [
    {
     "data": {
      "text/plain": [
       "177    A23\n",
       "Name: cabin, dtype: object"
      ]
     },
     "execution_count": 20,
     "metadata": {},
     "output_type": "execute_result"
    }
   ],
   "source": [
    "df[df['age']==df['age'].max()]['cabin']"
   ]
  },
  {
   "cell_type": "code",
   "execution_count": 21,
   "id": "09ff39f8",
   "metadata": {
    "execution": {
     "iopub.execute_input": "2025-10-04T09:48:26.159877Z",
     "iopub.status.busy": "2025-10-04T09:48:26.159512Z",
     "iopub.status.idle": "2025-10-04T09:48:26.166954Z",
     "shell.execute_reply": "2025-10-04T09:48:26.165487Z"
    },
    "papermill": {
     "duration": 0.017812,
     "end_time": "2025-10-04T09:48:26.168863",
     "exception": false,
     "start_time": "2025-10-04T09:48:26.151051",
     "status": "completed"
    },
    "tags": []
   },
   "outputs": [],
   "source": [
    "df['age'] = (df['age'] - df['age'].mean())/(df['age'].std())"
   ]
  },
  {
   "cell_type": "code",
   "execution_count": 22,
   "id": "255919f7",
   "metadata": {
    "execution": {
     "iopub.execute_input": "2025-10-04T09:48:26.185211Z",
     "iopub.status.busy": "2025-10-04T09:48:26.184902Z",
     "iopub.status.idle": "2025-10-04T09:48:26.189212Z",
     "shell.execute_reply": "2025-10-04T09:48:26.188195Z"
    },
    "papermill": {
     "duration": 0.014459,
     "end_time": "2025-10-04T09:48:26.190892",
     "exception": false,
     "start_time": "2025-10-04T09:48:26.176433",
     "status": "completed"
    },
    "tags": []
   },
   "outputs": [],
   "source": [
    "# df['age'].std()\n",
    "# df['age'].mean()"
   ]
  },
  {
   "cell_type": "code",
   "execution_count": 23,
   "id": "427c158d",
   "metadata": {
    "execution": {
     "iopub.execute_input": "2025-10-04T09:48:26.207296Z",
     "iopub.status.busy": "2025-10-04T09:48:26.206961Z",
     "iopub.status.idle": "2025-10-04T09:48:26.211858Z",
     "shell.execute_reply": "2025-10-04T09:48:26.210976Z"
    },
    "papermill": {
     "duration": 0.015302,
     "end_time": "2025-10-04T09:48:26.213740",
     "exception": false,
     "start_time": "2025-10-04T09:48:26.198438",
     "status": "completed"
    },
    "tags": []
   },
   "outputs": [],
   "source": [
    "# Encoding ..."
   ]
  },
  {
   "cell_type": "code",
   "execution_count": 24,
   "id": "a8e2b68b",
   "metadata": {
    "execution": {
     "iopub.execute_input": "2025-10-04T09:48:26.230119Z",
     "iopub.status.busy": "2025-10-04T09:48:26.229798Z",
     "iopub.status.idle": "2025-10-04T09:48:26.234784Z",
     "shell.execute_reply": "2025-10-04T09:48:26.233634Z"
    },
    "papermill": {
     "duration": 0.015323,
     "end_time": "2025-10-04T09:48:26.236690",
     "exception": false,
     "start_time": "2025-10-04T09:48:26.221367",
     "status": "completed"
    },
    "tags": []
   },
   "outputs": [],
   "source": [
    "# !pip install scikit-learn"
   ]
  },
  {
   "cell_type": "code",
   "execution_count": 25,
   "id": "f16aa7e9",
   "metadata": {
    "execution": {
     "iopub.execute_input": "2025-10-04T09:48:26.254105Z",
     "iopub.status.busy": "2025-10-04T09:48:26.253755Z",
     "iopub.status.idle": "2025-10-04T09:48:28.186902Z",
     "shell.execute_reply": "2025-10-04T09:48:28.185692Z"
    },
    "papermill": {
     "duration": 1.944579,
     "end_time": "2025-10-04T09:48:28.189658",
     "exception": false,
     "start_time": "2025-10-04T09:48:26.245079",
     "status": "completed"
    },
    "tags": []
   },
   "outputs": [],
   "source": [
    "from sklearn.preprocessing import LabelEncoder\n",
    "from sklearn.preprocessing import OrdinalEncoder"
   ]
  },
  {
   "cell_type": "code",
   "execution_count": 26,
   "id": "87dca328",
   "metadata": {
    "execution": {
     "iopub.execute_input": "2025-10-04T09:48:28.210827Z",
     "iopub.status.busy": "2025-10-04T09:48:28.210333Z",
     "iopub.status.idle": "2025-10-04T09:48:28.215340Z",
     "shell.execute_reply": "2025-10-04T09:48:28.214152Z"
    },
    "papermill": {
     "duration": 0.019487,
     "end_time": "2025-10-04T09:48:28.218351",
     "exception": false,
     "start_time": "2025-10-04T09:48:28.198864",
     "status": "completed"
    },
    "tags": []
   },
   "outputs": [],
   "source": [
    "# le = LabelEncoder()\n",
    "# oe = OrdinalEncoder()\n",
    "# df['sex'] = le.fit_transform(df['sex'])\n",
    "# df['sex'] = oe.fit_transform(df[['sex']])"
   ]
  },
  {
   "cell_type": "code",
   "execution_count": 27,
   "id": "23c969d3",
   "metadata": {
    "execution": {
     "iopub.execute_input": "2025-10-04T09:48:28.237299Z",
     "iopub.status.busy": "2025-10-04T09:48:28.236981Z",
     "iopub.status.idle": "2025-10-04T09:48:28.242089Z",
     "shell.execute_reply": "2025-10-04T09:48:28.240887Z"
    },
    "papermill": {
     "duration": 0.016957,
     "end_time": "2025-10-04T09:48:28.244188",
     "exception": false,
     "start_time": "2025-10-04T09:48:28.227231",
     "status": "completed"
    },
    "tags": []
   },
   "outputs": [],
   "source": [
    "# df['sex']"
   ]
  },
  {
   "cell_type": "code",
   "execution_count": 28,
   "id": "301e7c03",
   "metadata": {
    "execution": {
     "iopub.execute_input": "2025-10-04T09:48:28.262737Z",
     "iopub.status.busy": "2025-10-04T09:48:28.262378Z",
     "iopub.status.idle": "2025-10-04T09:48:28.267083Z",
     "shell.execute_reply": "2025-10-04T09:48:28.265896Z"
    },
    "papermill": {
     "duration": 0.016348,
     "end_time": "2025-10-04T09:48:28.269142",
     "exception": false,
     "start_time": "2025-10-04T09:48:28.252794",
     "status": "completed"
    },
    "tags": []
   },
   "outputs": [],
   "source": [
    "# df['sex']"
   ]
  },
  {
   "cell_type": "code",
   "execution_count": 29,
   "id": "31ebe4e7",
   "metadata": {
    "execution": {
     "iopub.execute_input": "2025-10-04T09:48:28.286231Z",
     "iopub.status.busy": "2025-10-04T09:48:28.285935Z",
     "iopub.status.idle": "2025-10-04T09:48:28.291042Z",
     "shell.execute_reply": "2025-10-04T09:48:28.289894Z"
    },
    "papermill": {
     "duration": 0.015256,
     "end_time": "2025-10-04T09:48:28.292785",
     "exception": false,
     "start_time": "2025-10-04T09:48:28.277529",
     "status": "completed"
    },
    "tags": []
   },
   "outputs": [],
   "source": [
    "# from sklearn.preprocessing import OneHotEncoder\n",
    "\n",
    "# ohe = OneHotEncoder()\n",
    "# ohe.fit_transform(df[['sex']]).toarray()\n",
    "# ohe.get_feature_names_out()\n",
    "# ohe_df = pd.DataFrame(\n",
    "#     ohe.fit_transform(df[['sex']]).toarray(),\n",
    "#     columns=ohe.get_feature_names_out()\n",
    "# )\n",
    "# df = pd.concat([df,ohe_df],axis=1)\n",
    "# df"
   ]
  },
  {
   "cell_type": "code",
   "execution_count": 30,
   "id": "2eebdb71",
   "metadata": {
    "execution": {
     "iopub.execute_input": "2025-10-04T09:48:28.309490Z",
     "iopub.status.busy": "2025-10-04T09:48:28.309157Z",
     "iopub.status.idle": "2025-10-04T09:48:28.328291Z",
     "shell.execute_reply": "2025-10-04T09:48:28.326922Z"
    },
    "papermill": {
     "duration": 0.029811,
     "end_time": "2025-10-04T09:48:28.330092",
     "exception": false,
     "start_time": "2025-10-04T09:48:28.300281",
     "status": "completed"
    },
    "tags": []
   },
   "outputs": [
    {
     "name": "stderr",
     "output_type": "stream",
     "text": [
      "/usr/local/lib/python3.11/dist-packages/pandas/io/formats/format.py:1458: RuntimeWarning: invalid value encountered in greater\n",
      "  has_large_values = (abs_vals > 1e6).any()\n",
      "/usr/local/lib/python3.11/dist-packages/pandas/io/formats/format.py:1459: RuntimeWarning: invalid value encountered in less\n",
      "  has_small_values = ((abs_vals < 10 ** (-self.digits)) & (abs_vals > 0)).any()\n",
      "/usr/local/lib/python3.11/dist-packages/pandas/io/formats/format.py:1459: RuntimeWarning: invalid value encountered in greater\n",
      "  has_small_values = ((abs_vals < 10 ** (-self.digits)) & (abs_vals > 0)).any()\n"
     ]
    },
    {
     "data": {
      "text/html": [
       "<div>\n",
       "<style scoped>\n",
       "    .dataframe tbody tr th:only-of-type {\n",
       "        vertical-align: middle;\n",
       "    }\n",
       "\n",
       "    .dataframe tbody tr th {\n",
       "        vertical-align: top;\n",
       "    }\n",
       "\n",
       "    .dataframe thead th {\n",
       "        text-align: right;\n",
       "    }\n",
       "</style>\n",
       "<table border=\"1\" class=\"dataframe\">\n",
       "  <thead>\n",
       "    <tr style=\"text-align: right;\">\n",
       "      <th></th>\n",
       "      <th>passenger_id</th>\n",
       "      <th>pclass</th>\n",
       "      <th>sex</th>\n",
       "      <th>age</th>\n",
       "      <th>sibsp</th>\n",
       "      <th>parch</th>\n",
       "      <th>ticket</th>\n",
       "      <th>fare</th>\n",
       "      <th>cabin</th>\n",
       "      <th>embarked</th>\n",
       "      <th>boat</th>\n",
       "      <th>body</th>\n",
       "      <th>home.dest</th>\n",
       "      <th>survived</th>\n",
       "    </tr>\n",
       "  </thead>\n",
       "  <tbody>\n",
       "    <tr>\n",
       "      <th>0</th>\n",
       "      <td>1216</td>\n",
       "      <td>3</td>\n",
       "      <td>female</td>\n",
       "      <td>6.826027e-16</td>\n",
       "      <td>0</td>\n",
       "      <td>0</td>\n",
       "      <td>335432</td>\n",
       "      <td>7.7333</td>\n",
       "      <td>NaN</td>\n",
       "      <td>Q</td>\n",
       "      <td>13</td>\n",
       "      <td>NaN</td>\n",
       "      <td>NaN</td>\n",
       "      <td>1</td>\n",
       "    </tr>\n",
       "    <tr>\n",
       "      <th>1</th>\n",
       "      <td>699</td>\n",
       "      <td>3</td>\n",
       "      <td>male</td>\n",
       "      <td>6.530965e-01</td>\n",
       "      <td>0</td>\n",
       "      <td>0</td>\n",
       "      <td>315089</td>\n",
       "      <td>8.6625</td>\n",
       "      <td>NaN</td>\n",
       "      <td>S</td>\n",
       "      <td>NaN</td>\n",
       "      <td>NaN</td>\n",
       "      <td>Croatia</td>\n",
       "      <td>0</td>\n",
       "    </tr>\n",
       "    <tr>\n",
       "      <th>2</th>\n",
       "      <td>1267</td>\n",
       "      <td>3</td>\n",
       "      <td>female</td>\n",
       "      <td>3.697883e-02</td>\n",
       "      <td>1</td>\n",
       "      <td>1</td>\n",
       "      <td>345773</td>\n",
       "      <td>24.1500</td>\n",
       "      <td>NaN</td>\n",
       "      <td>S</td>\n",
       "      <td>NaN</td>\n",
       "      <td>NaN</td>\n",
       "      <td>NaN</td>\n",
       "      <td>0</td>\n",
       "    </tr>\n",
       "    <tr>\n",
       "      <th>3</th>\n",
       "      <td>449</td>\n",
       "      <td>2</td>\n",
       "      <td>female</td>\n",
       "      <td>1.885332e+00</td>\n",
       "      <td>1</td>\n",
       "      <td>3</td>\n",
       "      <td>29105</td>\n",
       "      <td>23.0000</td>\n",
       "      <td>NaN</td>\n",
       "      <td>S</td>\n",
       "      <td>4</td>\n",
       "      <td>NaN</td>\n",
       "      <td>Cornwall / Akron, OH</td>\n",
       "      <td>1</td>\n",
       "    </tr>\n",
       "    <tr>\n",
       "      <th>4</th>\n",
       "      <td>576</td>\n",
       "      <td>2</td>\n",
       "      <td>male</td>\n",
       "      <td>8.071259e-01</td>\n",
       "      <td>0</td>\n",
       "      <td>0</td>\n",
       "      <td>28221</td>\n",
       "      <td>13.0000</td>\n",
       "      <td>NaN</td>\n",
       "      <td>S</td>\n",
       "      <td>NaN</td>\n",
       "      <td>NaN</td>\n",
       "      <td>Barre, Co Washington, VT</td>\n",
       "      <td>0</td>\n",
       "    </tr>\n",
       "  </tbody>\n",
       "</table>\n",
       "</div>"
      ],
      "text/plain": [
       "   passenger_id  pclass     sex           age  sibsp  parch  ticket     fare  \\\n",
       "0          1216       3  female  6.826027e-16      0      0  335432   7.7333   \n",
       "1           699       3    male  6.530965e-01      0      0  315089   8.6625   \n",
       "2          1267       3  female  3.697883e-02      1      1  345773  24.1500   \n",
       "3           449       2  female  1.885332e+00      1      3   29105  23.0000   \n",
       "4           576       2    male  8.071259e-01      0      0   28221  13.0000   \n",
       "\n",
       "  cabin embarked boat  body                 home.dest  survived  \n",
       "0   NaN        Q   13   NaN                       NaN         1  \n",
       "1   NaN        S  NaN   NaN                   Croatia         0  \n",
       "2   NaN        S  NaN   NaN                       NaN         0  \n",
       "3   NaN        S    4   NaN      Cornwall / Akron, OH         1  \n",
       "4   NaN        S  NaN   NaN  Barre, Co Washington, VT         0  "
      ]
     },
     "execution_count": 30,
     "metadata": {},
     "output_type": "execute_result"
    }
   ],
   "source": [
    "df.head()"
   ]
  },
  {
   "cell_type": "code",
   "execution_count": 31,
   "id": "f147a0fe",
   "metadata": {
    "execution": {
     "iopub.execute_input": "2025-10-04T09:48:28.348248Z",
     "iopub.status.busy": "2025-10-04T09:48:28.347937Z",
     "iopub.status.idle": "2025-10-04T09:48:28.354446Z",
     "shell.execute_reply": "2025-10-04T09:48:28.353093Z"
    },
    "papermill": {
     "duration": 0.017876,
     "end_time": "2025-10-04T09:48:28.356475",
     "exception": false,
     "start_time": "2025-10-04T09:48:28.338599",
     "status": "completed"
    },
    "tags": []
   },
   "outputs": [],
   "source": [
    "df = df[['pclass','sex']]"
   ]
  },
  {
   "cell_type": "code",
   "execution_count": 32,
   "id": "484b02ca",
   "metadata": {
    "execution": {
     "iopub.execute_input": "2025-10-04T09:48:28.438985Z",
     "iopub.status.busy": "2025-10-04T09:48:28.438516Z",
     "iopub.status.idle": "2025-10-04T09:48:28.449718Z",
     "shell.execute_reply": "2025-10-04T09:48:28.448145Z"
    },
    "papermill": {
     "duration": 0.086812,
     "end_time": "2025-10-04T09:48:28.451798",
     "exception": false,
     "start_time": "2025-10-04T09:48:28.364986",
     "status": "completed"
    },
    "tags": []
   },
   "outputs": [
    {
     "data": {
      "text/html": [
       "<div>\n",
       "<style scoped>\n",
       "    .dataframe tbody tr th:only-of-type {\n",
       "        vertical-align: middle;\n",
       "    }\n",
       "\n",
       "    .dataframe tbody tr th {\n",
       "        vertical-align: top;\n",
       "    }\n",
       "\n",
       "    .dataframe thead th {\n",
       "        text-align: right;\n",
       "    }\n",
       "</style>\n",
       "<table border=\"1\" class=\"dataframe\">\n",
       "  <thead>\n",
       "    <tr style=\"text-align: right;\">\n",
       "      <th></th>\n",
       "      <th>pclass</th>\n",
       "      <th>sex</th>\n",
       "    </tr>\n",
       "  </thead>\n",
       "  <tbody>\n",
       "    <tr>\n",
       "      <th>0</th>\n",
       "      <td>3</td>\n",
       "      <td>female</td>\n",
       "    </tr>\n",
       "    <tr>\n",
       "      <th>1</th>\n",
       "      <td>3</td>\n",
       "      <td>male</td>\n",
       "    </tr>\n",
       "    <tr>\n",
       "      <th>2</th>\n",
       "      <td>3</td>\n",
       "      <td>female</td>\n",
       "    </tr>\n",
       "    <tr>\n",
       "      <th>3</th>\n",
       "      <td>2</td>\n",
       "      <td>female</td>\n",
       "    </tr>\n",
       "    <tr>\n",
       "      <th>4</th>\n",
       "      <td>2</td>\n",
       "      <td>male</td>\n",
       "    </tr>\n",
       "    <tr>\n",
       "      <th>...</th>\n",
       "      <td>...</td>\n",
       "      <td>...</td>\n",
       "    </tr>\n",
       "    <tr>\n",
       "      <th>845</th>\n",
       "      <td>1</td>\n",
       "      <td>male</td>\n",
       "    </tr>\n",
       "    <tr>\n",
       "      <th>846</th>\n",
       "      <td>1</td>\n",
       "      <td>male</td>\n",
       "    </tr>\n",
       "    <tr>\n",
       "      <th>847</th>\n",
       "      <td>2</td>\n",
       "      <td>female</td>\n",
       "    </tr>\n",
       "    <tr>\n",
       "      <th>848</th>\n",
       "      <td>3</td>\n",
       "      <td>female</td>\n",
       "    </tr>\n",
       "    <tr>\n",
       "      <th>849</th>\n",
       "      <td>2</td>\n",
       "      <td>male</td>\n",
       "    </tr>\n",
       "  </tbody>\n",
       "</table>\n",
       "<p>850 rows × 2 columns</p>\n",
       "</div>"
      ],
      "text/plain": [
       "     pclass     sex\n",
       "0         3  female\n",
       "1         3    male\n",
       "2         3  female\n",
       "3         2  female\n",
       "4         2    male\n",
       "..      ...     ...\n",
       "845       1    male\n",
       "846       1    male\n",
       "847       2  female\n",
       "848       3  female\n",
       "849       2    male\n",
       "\n",
       "[850 rows x 2 columns]"
      ]
     },
     "execution_count": 32,
     "metadata": {},
     "output_type": "execute_result"
    }
   ],
   "source": [
    "df"
   ]
  },
  {
   "cell_type": "code",
   "execution_count": 33,
   "id": "93a8d9f0",
   "metadata": {
    "execution": {
     "iopub.execute_input": "2025-10-04T09:48:28.471649Z",
     "iopub.status.busy": "2025-10-04T09:48:28.471286Z",
     "iopub.status.idle": "2025-10-04T09:48:28.482623Z",
     "shell.execute_reply": "2025-10-04T09:48:28.481315Z"
    },
    "papermill": {
     "duration": 0.02433,
     "end_time": "2025-10-04T09:48:28.484969",
     "exception": false,
     "start_time": "2025-10-04T09:48:28.460639",
     "status": "completed"
    },
    "tags": []
   },
   "outputs": [],
   "source": [
    "df = pd.get_dummies(df,dtype=int)"
   ]
  },
  {
   "cell_type": "code",
   "execution_count": 34,
   "id": "cd2c558e",
   "metadata": {
    "execution": {
     "iopub.execute_input": "2025-10-04T09:48:28.505809Z",
     "iopub.status.busy": "2025-10-04T09:48:28.505434Z",
     "iopub.status.idle": "2025-10-04T09:48:28.518515Z",
     "shell.execute_reply": "2025-10-04T09:48:28.517369Z"
    },
    "papermill": {
     "duration": 0.026357,
     "end_time": "2025-10-04T09:48:28.520848",
     "exception": false,
     "start_time": "2025-10-04T09:48:28.494491",
     "status": "completed"
    },
    "tags": []
   },
   "outputs": [
    {
     "data": {
      "text/html": [
       "<div>\n",
       "<style scoped>\n",
       "    .dataframe tbody tr th:only-of-type {\n",
       "        vertical-align: middle;\n",
       "    }\n",
       "\n",
       "    .dataframe tbody tr th {\n",
       "        vertical-align: top;\n",
       "    }\n",
       "\n",
       "    .dataframe thead th {\n",
       "        text-align: right;\n",
       "    }\n",
       "</style>\n",
       "<table border=\"1\" class=\"dataframe\">\n",
       "  <thead>\n",
       "    <tr style=\"text-align: right;\">\n",
       "      <th></th>\n",
       "      <th>pclass</th>\n",
       "      <th>sex_female</th>\n",
       "      <th>sex_male</th>\n",
       "    </tr>\n",
       "  </thead>\n",
       "  <tbody>\n",
       "    <tr>\n",
       "      <th>0</th>\n",
       "      <td>3</td>\n",
       "      <td>1</td>\n",
       "      <td>0</td>\n",
       "    </tr>\n",
       "    <tr>\n",
       "      <th>1</th>\n",
       "      <td>3</td>\n",
       "      <td>0</td>\n",
       "      <td>1</td>\n",
       "    </tr>\n",
       "    <tr>\n",
       "      <th>2</th>\n",
       "      <td>3</td>\n",
       "      <td>1</td>\n",
       "      <td>0</td>\n",
       "    </tr>\n",
       "    <tr>\n",
       "      <th>3</th>\n",
       "      <td>2</td>\n",
       "      <td>1</td>\n",
       "      <td>0</td>\n",
       "    </tr>\n",
       "    <tr>\n",
       "      <th>4</th>\n",
       "      <td>2</td>\n",
       "      <td>0</td>\n",
       "      <td>1</td>\n",
       "    </tr>\n",
       "    <tr>\n",
       "      <th>...</th>\n",
       "      <td>...</td>\n",
       "      <td>...</td>\n",
       "      <td>...</td>\n",
       "    </tr>\n",
       "    <tr>\n",
       "      <th>845</th>\n",
       "      <td>1</td>\n",
       "      <td>0</td>\n",
       "      <td>1</td>\n",
       "    </tr>\n",
       "    <tr>\n",
       "      <th>846</th>\n",
       "      <td>1</td>\n",
       "      <td>0</td>\n",
       "      <td>1</td>\n",
       "    </tr>\n",
       "    <tr>\n",
       "      <th>847</th>\n",
       "      <td>2</td>\n",
       "      <td>1</td>\n",
       "      <td>0</td>\n",
       "    </tr>\n",
       "    <tr>\n",
       "      <th>848</th>\n",
       "      <td>3</td>\n",
       "      <td>1</td>\n",
       "      <td>0</td>\n",
       "    </tr>\n",
       "    <tr>\n",
       "      <th>849</th>\n",
       "      <td>2</td>\n",
       "      <td>0</td>\n",
       "      <td>1</td>\n",
       "    </tr>\n",
       "  </tbody>\n",
       "</table>\n",
       "<p>850 rows × 3 columns</p>\n",
       "</div>"
      ],
      "text/plain": [
       "     pclass  sex_female  sex_male\n",
       "0         3           1         0\n",
       "1         3           0         1\n",
       "2         3           1         0\n",
       "3         2           1         0\n",
       "4         2           0         1\n",
       "..      ...         ...       ...\n",
       "845       1           0         1\n",
       "846       1           0         1\n",
       "847       2           1         0\n",
       "848       3           1         0\n",
       "849       2           0         1\n",
       "\n",
       "[850 rows x 3 columns]"
      ]
     },
     "execution_count": 34,
     "metadata": {},
     "output_type": "execute_result"
    }
   ],
   "source": [
    "df"
   ]
  },
  {
   "cell_type": "code",
   "execution_count": 35,
   "id": "858b4e3e",
   "metadata": {
    "execution": {
     "iopub.execute_input": "2025-10-04T09:48:28.541864Z",
     "iopub.status.busy": "2025-10-04T09:48:28.541475Z",
     "iopub.status.idle": "2025-10-04T09:48:28.548421Z",
     "shell.execute_reply": "2025-10-04T09:48:28.547188Z"
    },
    "papermill": {
     "duration": 0.019469,
     "end_time": "2025-10-04T09:48:28.550648",
     "exception": false,
     "start_time": "2025-10-04T09:48:28.531179",
     "status": "completed"
    },
    "tags": []
   },
   "outputs": [
    {
     "data": {
      "text/plain": [
       "1"
      ]
     },
     "execution_count": 35,
     "metadata": {},
     "output_type": "execute_result"
    }
   ],
   "source": [
    "1"
   ]
  }
 ],
 "metadata": {
  "kaggle": {
   "accelerator": "none",
   "dataSources": [],
   "dockerImageVersionId": 31089,
   "isGpuEnabled": false,
   "isInternetEnabled": true,
   "language": "python",
   "sourceType": "notebook"
  },
  "kernelspec": {
   "display_name": "Python 3",
   "language": "python",
   "name": "python3"
  },
  "language_info": {
   "codemirror_mode": {
    "name": "ipython",
    "version": 3
   },
   "file_extension": ".py",
   "mimetype": "text/x-python",
   "name": "python",
   "nbconvert_exporter": "python",
   "pygments_lexer": "ipython3",
   "version": "3.11.13"
  },
  "papermill": {
   "default_parameters": {},
   "duration": 18.68044,
   "end_time": "2025-10-04T09:48:29.181179",
   "environment_variables": {},
   "exception": null,
   "input_path": "__notebook__.ipynb",
   "output_path": "__notebook__.ipynb",
   "parameters": {},
   "start_time": "2025-10-04T09:48:10.500739",
   "version": "2.6.0"
  }
 },
 "nbformat": 4,
 "nbformat_minor": 5
}
